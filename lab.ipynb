{
 "cells": [
  {
   "cell_type": "code",
   "execution_count": 1,
   "metadata": {},
   "outputs": [
    {
     "name": "stdout",
     "output_type": "stream",
     "text": [
      "{'A': 0.6666666666666666, 'B': 0.6666666666666666, 'K': 1.0, 'C': 0.3333333333333333, 'F': 0.3333333333333333, 'G': 0, 'E': 0.16666666666666666, 'D': 0, 'H': 0, 'I': 0, 'J': 0}\n",
      "0.3333333333333333\n"
     ]
    }
   ],
   "source": [
    "import networkx as nx\n",
    " \n",
    "G = nx.Graph()\n",
    " \n",
    "G.add_edges_from([('A', 'B'), ('A', 'K'), ('B', 'K'), ('A', 'C'),\n",
    "                  ('B', 'C'), ('C', 'F'), ('F', 'G'), ('C', 'E'),\n",
    "                  ('E', 'F'), ('E', 'D'), ('E', 'H'), ('I', 'J')])\n",
    " \n",
    "# returns a Dictionary with clustering value of each node\n",
    "print(nx.clustering(G))\n",
    " \n",
    "# This returns clustering value of specified node\n",
    "print(nx.clustering(G, 'C'))"
   ]
  },
  {
   "cell_type": "code",
   "execution_count": 2,
   "metadata": {},
   "outputs": [
    {
     "name": "stdout",
     "output_type": "stream",
     "text": [
      "False\n",
      "2\n",
      "[{'E', 'G', 'C', 'F', 'K', 'B', 'D', 'H', 'A'}, {'J', 'I'}]\n",
      "{'J', 'I'}\n",
      "0\n",
      "0\n"
     ]
    },
    {
     "data": {
      "image/png": "[encoded data removed]",
      "text/plain": [
       "<Figure size 432x288 with 1 Axes>"
      ]
     },
     "metadata": {},
     "output_type": "display_data"
    }
   ],
   "source": [
    "\n",
    "import networkx as nx\n",
    " \n",
    "G = nx.Graph()\n",
    " \n",
    "G.add_edges_from([('A', 'B'), ('A', 'K'), ('B', 'K'), ('A', 'C'),\n",
    "                  ('B', 'C'), ('C', 'F'), ('F', 'G'), ('C', 'E'),\n",
    "                  ('E', 'F'), ('E', 'D'), ('E', 'H'), ('I', 'J')])\n",
    " \n",
    "nx.draw_networkx(G, with_labels = True, node_color ='green')\n",
    " \n",
    "# returns True or False whether Graph is connected\n",
    "print(nx.is_connected(G))\n",
    " \n",
    "# returns number of different connected components\n",
    "print(nx.number_connected_components(G))\n",
    " \n",
    "# returns list of nodes in different connected components\n",
    "print(list(nx.connected_components(G)))\n",
    " \n",
    "# returns list of nodes of component containing given node\n",
    "print(nx.node_connected_component(G, 'I'))\n",
    " \n",
    "# returns number of nodes to be removed\n",
    "# so that Graph becomes disconnected\n",
    "print(nx.node_connectivity(G))\n",
    " \n",
    "# returns number of edges to be removed\n",
    "# so that Graph becomes disconnected\n",
    "print(nx.edge_connectivity(G))"
   ]
  }
 ],
 "metadata": {
  "interpreter": {
   "hash": "651dcc853ead57c5e7bf768e4c673fd7c2c98c51a9793aed9412e5eb8a1bb026"
  },
  "kernelspec": {
   "display_name": "Python 3.8.8 ('base')",
   "language": "python",
   "name": "python3"
  },
  "language_info": {
   "codemirror_mode": {
    "name": "ipython",
    "version": 3
   },
   "file_extension": ".py",
   "mimetype": "text/x-python",
   "name": "python",
   "nbconvert_exporter": "python",
   "pygments_lexer": "ipython3",
   "version": "3.8.8"
  },
  "orig_nbformat": 4
 },
 "nbformat": 4,
 "nbformat_minor": 2
}
