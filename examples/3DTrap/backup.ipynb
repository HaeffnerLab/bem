{
 "cells": [
  {
   "cell_type": "code",
   "execution_count": null,
   "metadata": {},
   "outputs": [],
   "source": [
    "#   bem: triangulation and fmm/bem electrostatics tools \n",
    "#\n",
    "#   Copyright (C) 2011-2012 Robert Jordens <jordens@gmail.com>\n",
    "#\n",
    "#   This program is free software: you can redistribute it and/or modify\n",
    "#   it under the terms of the GNU General Public License as published by\n",
    "#   the Free Software Foundation, either version 3 of the License, or\n",
    "#   (at your option) any later version.\n",
    "#\n",
    "#   This program is distributed in the hope that it will be useful,\n",
    "#   but WITHOUT ANY WARRANTY; without even the implied warranty of\n",
    "#   MERCHANTABILITY or FITNESS FOR A PARTICULAR PURPOSE.  See the\n",
    "#   GNU General Public License for more details.\n",
    "#\n",
    "#   You should have received a copy of the GNU General Public License\n",
    "#   along with this program.  If not, see <http://www.gnu.org/licenses/>."
   ]
  },
  {
   "cell_type": "markdown",
   "metadata": {},
   "source": [
    "# `bem` 3D electrostatics example"
   ]
  },
  {
   "cell_type": "code",
   "execution_count": 1,
   "metadata": {},
   "outputs": [],
   "source": [
    "import sys\n",
    "import logging, os\n",
    "import numpy as np\n",
    "import matplotlib.pyplot as plt\n",
    "from multiprocessing import Pool\n",
    "\n",
    "sys.path.append('../../')\n",
    "\n",
    "from bem import Electrodes, Sphere, Mesh, Grid, Configuration, Result\n",
    "from bem.formats import stl"
   ]
  },
  {
   "cell_type": "code",
   "execution_count": 2,
   "metadata": {},
   "outputs": [],
   "source": [
    "# base file name for outputs and inputs is the script name\n",
    "try:\n",
    "    # works only if we are a script\n",
    "    prefix = os.path.splitext(__file__)[0]\n",
    "except NameError:\n",
    "    # fallback for notebooks\n",
    "    prefix = \"SimpleTrap\""
   ]
  },
  {
   "cell_type": "code",
   "execution_count": 3,
   "metadata": {},
   "outputs": [
    {
     "name": "stdout",
     "output_type": "stream",
     "text": [
      "dropping 0\n"
     ]
    }
   ],
   "source": [
    "### scale to natural units (ion height)\n",
    "scale = 40e-6\n",
    "use_stl = True\n",
    "\n",
    "if not use_stl:\n",
    "    # load electrode faces from loops\n",
    "    ele = Electrodes.from_trap(open(\"%s.ele\" % prefix), scale)\n",
    "    # initial triangulation, area 20, quiet\n",
    "    mesh = Mesh.from_electrodes(ele)\n",
    "    mesh.triangulate(opts=\"qa10Q\")\n",
    "else:\n",
    "    # load electrode faces from colored stl\n",
    "    s = stl.read_stl(open(\"%s.stl\" % prefix, \"rb\"))\n",
    "    mesh = Mesh.from_mesh(stl.stl_to_mesh(*s, scale=scale/1e-6,\n",
    "        rename={9495: \"DC1\", 17962: \"DC3\", 18994: \"DC5\",\n",
    "        18869: \"DC2\", 20943: \"RF\", 18129: \"DC4\"}))"
   ]
  },
  {
   "cell_type": "code",
   "execution_count": 4,
   "metadata": {},
   "outputs": [],
   "source": [
    "def run_job(args):\n",
    "    job, grid, prefix = args\n",
    "    # refine twice adaptively with increasing number of triangles, min\n",
    "    # angle 25deg\n",
    "    job.adapt_mesh(triangles=4e2, opts=\"q25Q\")\n",
    "    job.adapt_mesh(triangles=1e3, opts=\"q25Q\")\n",
    "    # solve for charges\n",
    "    job.solve_singularities(num_lev=3)\n",
    "    # get potentials and fields\n",
    "    result = job.simulate(grid, field=job.name==\"RF\", num_lev=1)\n",
    "    result.to_vtk(prefix)\n",
    "    print \"finished job %s\" % job.name\n",
    "    return job.collect_charges()"
   ]
  },
  {
   "cell_type": "code",
   "execution_count": null,
   "metadata": {},
   "outputs": [],
   "source": [
    "# set .1 max area within 3\n",
    "mesh.areas_from_constraints(Sphere(center=np.array([0, 0, 1.]),    # areas_from_constraints specifies a region with finer mesh.\n",
    "           radius=2, inside=.2, outside=10.))    # inside, outside assign the mesh density.\n",
    "# retriangulate quality and quiet with areas\n",
    "mesh.triangulate(opts=\"qQ\", new=False)\n",
    "# save base mesh to vtk\n",
    "mesh.to_vtk(prefix)"
   ]
  },
  {
   "cell_type": "code",
   "execution_count": 160,
   "metadata": {},
   "outputs": [
    {
     "name": "stdout",
     "output_type": "stream",
     "text": [
      "finished job DC1\n",
      "finished job DC3\n",
      "finished job DC5\n",
      "finished job DC2\n",
      "finished job RF\n",
      "finished job DC4\n"
     ]
    },
    {
     "data": {
      "text/plain": [
       "[array([ 4.02019404, -0.95153122, -0.24915251, -0.07075638, -1.62537428,\n",
       "        -0.1260678 ]),\n",
       " array([-0.9112266 ,  3.77945921, -0.07109569, -1.05952053, -0.40074672,\n",
       "        -0.92468139]),\n",
       " array([-0.23046195, -0.06933327,  5.27685087, -0.01436503, -4.40913574,\n",
       "        -0.22868745]),\n",
       " array([-0.06890335, -1.10624847, -0.0143822 ,  1.40337215, -0.06127194,\n",
       "        -0.06909006]),\n",
       " array([-1.43711237, -0.3928297 , -4.38723945, -0.06156489, 10.43767633,\n",
       "        -1.4403574 ]),\n",
       " array([-0.12564693, -0.95090236, -0.24719154, -0.07072878, -1.62821074,\n",
       "         4.01641151])]"
      ]
     },
     "execution_count": 160,
     "metadata": {},
     "output_type": "execute_result"
    }
   ],
   "source": [
    "# grid to evalute potential and fields at\n",
    "n, s = 2*100, 1\n",
    "grid = Grid(center=(0, 0, 0), step=(s, s/2., s), shape=(n/2, n/2, n/3))    # shape: the calculation region\n",
    "# generate electrode potential configurations to simulate\n",
    "# use regexps to match electrode names\n",
    "jobs = list(Configuration.select(mesh, \"DC.*\",\"RF\"))    # select() is to \n",
    "# run the different electrodes on the parallel pool\n",
    "#pmap = Pool().map # parallel map\n",
    "pmap = map # serial map\n",
    "pmap(run_job, ((job, grid, prefix) for job in jobs))"
   ]
  },
  {
   "cell_type": "code",
   "execution_count": 161,
   "metadata": {},
   "outputs": [
    {
     "data": {
      "image/png": "[encoded data removed]",
      "text/plain": [
       "<matplotlib.figure.Figure at 0x7f423f9e0a90>"
      ]
     },
     "metadata": {},
     "output_type": "display_data"
    }
   ],
   "source": [
    "# isocontour plot of the RF pseudopotential radially\n",
    "result = Result.from_vtk(prefix, \"RF\")\n",
    "p = result.pseudo_potential    # p.shape is a tuple that stores the length of x, y, z, respectively.\n",
    "x = grid.to_mgrid()#[:, p.shape[0]/2]    # p.shape[0]/2 is in the middle of x. ?\n",
    "#p = p[p.shape[0]/2]    # get the slice of yz plain at x = p.shape[0]/2, the middle plain.\n",
    "fig, ax = plt.subplots()\n",
    "ax.set_aspect(\"equal\")\n",
    "#ax.contour(x[1], x[2], p, levels=np.linspace(0, 2e-4, 50), cmap=plt.cm.Reds)"
   ]
  },
  {
   "cell_type": "code",
   "execution_count": 162,
   "metadata": {},
   "outputs": [
    {
     "data": {
      "text/plain": [
       "(3, 60, 30, 20)"
      ]
     },
     "execution_count": 162,
     "metadata": {},
     "output_type": "execute_result"
    }
   ],
   "source": [
    "x.shape"
   ]
  },
  {
   "cell_type": "code",
   "execution_count": 163,
   "metadata": {},
   "outputs": [
    {
     "data": {
      "text/plain": [
       "(3, 30, 20)"
      ]
     },
     "execution_count": 163,
     "metadata": {},
     "output_type": "execute_result"
    }
   ],
   "source": [
    "x[:,p.shape[0]/2].shape    # slice at nx/2"
   ]
  },
  {
   "cell_type": "code",
   "execution_count": 164,
   "metadata": {},
   "outputs": [
    {
     "data": {
      "text/plain": [
       "(3.99669e-06, 8.97829e-06)"
      ]
     },
     "execution_count": 164,
     "metadata": {},
     "output_type": "execute_result"
    }
   ],
   "source": [
    "p[0,0,0], p[0,29,0]    # wwc the length of yz"
   ]
  },
  {
   "cell_type": "code",
   "execution_count": 306,
   "metadata": {},
   "outputs": [
    {
     "data": {
      "text/plain": [
       "<matplotlib.contour.QuadContourSet at 0x7f423c1c7b50>"
      ]
     },
     "execution_count": 306,
     "metadata": {},
     "output_type": "execute_result"
    },
    {
     "data": {
      "image/png": "[encoded data removed]",
      "text/plain": [
       "<matplotlib.figure.Figure at 0x7f423c1c7810>"
      ]
     },
     "metadata": {},
     "output_type": "display_data"
    }
   ],
   "source": [
    "# isocontour plot of the RF pseudopotential radially\n",
    "result = Result.from_vtk(prefix, \"DC1\")\n",
    "p = result.potential\n",
    "x = grid.to_mgrid()[:,:,:,p.shape[2]/2]\n",
    "p = p[:,:,p.shape[2]/2]\n",
    "fig, ax = plt.subplots()\n",
    "ax.set_aspect(\"equal\")\n",
    "ax.contour(x[0], x[1], p, levels=np.linspace(0, 8e-3, 50), cmap=plt.cm.Reds)"
   ]
  },
  {
   "cell_type": "code",
   "execution_count": 313,
   "metadata": {},
   "outputs": [
    {
     "data": {
      "text/plain": [
       "<matplotlib.contour.QuadContourSet at 0x7f423b71a750>"
      ]
     },
     "execution_count": 313,
     "metadata": {},
     "output_type": "execute_result"
    },
    {
     "data": {
      "image/png": "[encoded data removed]",
      "text/plain": [
       "<matplotlib.figure.Figure at 0x7f423b309110>"
      ]
     },
     "metadata": {},
     "output_type": "display_data"
    }
   ],
   "source": [
    "# isocontour plot of the RF pseudopotential radially\n",
    "result = Result.from_vtk(prefix, \"DC1\")\n",
    "p = result.potential\n",
    "x = grid.to_mgrid()[:,p.shape[0]/2]\n",
    "p = p[p.shape[0]/2]\n",
    "fig, ax = plt.subplots()\n",
    "ax.set_aspect(\"equal\")\n",
    "ax.contour(x[1], x[2], p, levels=np.linspace(0, 2e-2, 50), cmap=plt.cm.Reds)"
   ]
  },
  {
   "cell_type": "code",
   "execution_count": 287,
   "metadata": {},
   "outputs": [
    {
     "data": {
      "text/plain": [
       "array([[[-29.5, -29.5, -29.5, ..., -29.5, -29.5, -29.5],\n",
       "        [-28.5, -28.5, -28.5, ..., -28.5, -28.5, -28.5],\n",
       "        [-27.5, -27.5, -27.5, ..., -27.5, -27.5, -27.5],\n",
       "        ...,\n",
       "        [ 27.5,  27.5,  27.5, ...,  27.5,  27.5,  27.5],\n",
       "        [ 28.5,  28.5,  28.5, ...,  28.5,  28.5,  28.5],\n",
       "        [ 29.5,  29.5,  29.5, ...,  29.5,  29.5,  29.5]],\n",
       "\n",
       "       [[-14.5, -13.5, -12.5, ...,  12.5,  13.5,  14.5],\n",
       "        [-14.5, -13.5, -12.5, ...,  12.5,  13.5,  14.5],\n",
       "        [-14.5, -13.5, -12.5, ...,  12.5,  13.5,  14.5],\n",
       "        ...,\n",
       "        [-14.5, -13.5, -12.5, ...,  12.5,  13.5,  14.5],\n",
       "        [-14.5, -13.5, -12.5, ...,  12.5,  13.5,  14.5],\n",
       "        [-14.5, -13.5, -12.5, ...,  12.5,  13.5,  14.5]],\n",
       "\n",
       "       [[  0.5,   0.5,   0.5, ...,   0.5,   0.5,   0.5],\n",
       "        [  0.5,   0.5,   0.5, ...,   0.5,   0.5,   0.5],\n",
       "        [  0.5,   0.5,   0.5, ...,   0.5,   0.5,   0.5],\n",
       "        ...,\n",
       "        [  0.5,   0.5,   0.5, ...,   0.5,   0.5,   0.5],\n",
       "        [  0.5,   0.5,   0.5, ...,   0.5,   0.5,   0.5],\n",
       "        [  0.5,   0.5,   0.5, ...,   0.5,   0.5,   0.5]]])"
      ]
     },
     "execution_count": 287,
     "metadata": {},
     "output_type": "execute_result"
    }
   ],
   "source": [
    "x"
   ]
  },
  {
   "cell_type": "code",
   "execution_count": 259,
   "metadata": {},
   "outputs": [
    {
     "name": "stdout",
     "output_type": "stream",
     "text": [
      "(0.0129035, 0.0129236)\n",
      "(0.00974293, 0.00967623)\n"
     ]
    }
   ],
   "source": [
    "print(p[0,14,9], p[59,14,9])\n",
    "print(p[20,14,9], p[39,14,9])  # x"
   ]
  },
  {
   "cell_type": "code",
   "execution_count": 260,
   "metadata": {},
   "outputs": [
    {
     "name": "stdout",
     "output_type": "stream",
     "text": [
      "(0.0651112, 0.0135111)\n",
      "(0.511268, 0.0041881)\n"
     ]
    }
   ],
   "source": [
    "print(p[29,0,9], p[29,29,9])\n",
    "print(p[29,10,9], p[29,19,9])  # y"
   ]
  },
  {
   "cell_type": "code",
   "execution_count": 254,
   "metadata": {},
   "outputs": [
    {
     "name": "stdout",
     "output_type": "stream",
     "text": [
      "(0.032727, 0.032727)\n",
      "(0.0640706, 0.0640706)\n"
     ]
    }
   ],
   "source": [
    "print(p[29,14,0], p[29,14,19])\n",
    "print(p[29,14,5], p[29,14,14])  # z"
   ]
  },
  {
   "cell_type": "code",
   "execution_count": 110,
   "metadata": {
    "scrolled": false
   },
   "outputs": [
    {
     "data": {
      "text/plain": [
       "<matplotlib.contour.QuadContourSet at 0x7f42478f9490>"
      ]
     },
     "execution_count": 110,
     "metadata": {},
     "output_type": "execute_result"
    },
    {
     "data": {
      "image/png": "[encoded data removed]",
      "text/plain": [
       "<matplotlib.figure.Figure at 0x7f42478f9050>"
      ]
     },
     "metadata": {},
     "output_type": "display_data"
    }
   ],
   "source": [
    "# isocontour plot of the RF pseudopotential radially\n",
    "result = Result.from_vtk(prefix, \"DC2\")\n",
    "p = result.potential\n",
    "x = grid.to_mgrid()[:,p.shape[0]/2]\n",
    "p = p[p.shape[0]/2]\n",
    "fig, ax = plt.subplots()\n",
    "ax.set_aspect(\"equal\")\n",
    "ax.contour(x[1], x[2], p, levels=np.linspace(0, 2e-4, 50), cmap=plt.cm.Reds)"
   ]
  },
  {
   "cell_type": "code",
   "execution_count": 82,
   "metadata": {},
   "outputs": [
    {
     "data": {
      "text/plain": [
       "<matplotlib.contour.QuadContourSet at 0x7f42546e4290>"
      ]
     },
     "execution_count": 82,
     "metadata": {},
     "output_type": "execute_result"
    },
    {
     "data": {
      "image/png": "[encoded data removed]",
      "text/plain": [
       "<matplotlib.figure.Figure at 0x7f42546e4690>"
      ]
     },
     "metadata": {},
     "output_type": "display_data"
    }
   ],
   "source": [
    "# isocontour plot of the RF pseudopotential radially\n",
    "result = Result.from_vtk(prefix, \"DC3\")\n",
    "p = result.potential\n",
    "x = grid.to_mgrid()[:,p.shape[0]/2]\n",
    "p = p[p.shape[0]/2]\n",
    "fig, ax = plt.subplots()\n",
    "ax.set_aspect(\"equal\")\n",
    "ax.contour(x[1], x[2], p, levels=np.linspace(0, 5e-4, 50), cmap=plt.cm.Reds)"
   ]
  },
  {
   "cell_type": "code",
   "execution_count": 85,
   "metadata": {},
   "outputs": [
    {
     "data": {
      "text/plain": [
       "<matplotlib.contour.QuadContourSet at 0x7f4254536a90>"
      ]
     },
     "execution_count": 85,
     "metadata": {},
     "output_type": "execute_result"
    },
    {
     "data": {
      "image/png": "[encoded data removed]",
      "text/plain": [
       "<matplotlib.figure.Figure at 0x7f4254313a50>"
      ]
     },
     "metadata": {},
     "output_type": "display_data"
    }
   ],
   "source": [
    "# isocontour plot of the RF pseudopotential radially\n",
    "result = Result.from_vtk(prefix, \"DC4\")\n",
    "p = result.potential\n",
    "x = grid.to_mgrid()[:,p.shape[0]/2]\n",
    "p = p[p.shape[0]/2]\n",
    "fig, ax = plt.subplots()\n",
    "ax.set_aspect(\"equal\")\n",
    "ax.contour(x[1], x[2], p, levels=np.linspace(0, 5e-4, 50), cmap=plt.cm.Reds)"
   ]
  },
  {
   "cell_type": "code",
   "execution_count": null,
   "metadata": {},
   "outputs": [],
   "source": [
    "np.shape(result.potential)"
   ]
  },
  {
   "cell_type": "code",
   "execution_count": 7,
   "metadata": {},
   "outputs": [
    {
     "data": {
      "image/png": "[encoded data removed]",
      "text/plain": [
       "<matplotlib.figure.Figure at 0x7f07e27a1250>"
      ]
     },
     "metadata": {},
     "output_type": "display_data"
    }
   ],
   "source": [
    "fig, ax = plt.subplots(subplot_kw=dict(aspect=\"equal\"))\n",
    "mesh.plot(ax)"
   ]
  },
  {
   "cell_type": "code",
   "execution_count": 1,
   "metadata": {},
   "outputs": [
    {
     "ename": "NameError",
     "evalue": "name 'Result' is not defined",
     "output_type": "error",
     "traceback": [
      "\u001b[0;31m---------------------------------------------------------------------------\u001b[0m",
      "\u001b[0;31mNameError\u001b[0m                                 Traceback (most recent call last)",
      "\u001b[0;32m<ipython-input-1-20852201cae1>\u001b[0m in \u001b[0;36m<module>\u001b[0;34m()\u001b[0m\n\u001b[1;32m      2\u001b[0m \u001b[0;31m# fire up a mayavi2 window showing base mesh, charges on final mesh\u001b[0m\u001b[0;34m\u001b[0m\u001b[0;34m\u001b[0m\u001b[0m\n\u001b[1;32m      3\u001b[0m \u001b[0;31m# and isosurfaces of the pseudopotential\u001b[0m\u001b[0;34m\u001b[0m\u001b[0;34m\u001b[0m\u001b[0m\n\u001b[0;32m----> 4\u001b[0;31m \u001b[0mResult\u001b[0m\u001b[0;34m.\u001b[0m\u001b[0mview\u001b[0m\u001b[0;34m(\u001b[0m\u001b[0mprefix\u001b[0m\u001b[0;34m,\u001b[0m \u001b[0;34m\"RF\"\u001b[0m\u001b[0;34m)\u001b[0m\u001b[0;34m\u001b[0m\u001b[0m\n\u001b[0m\u001b[1;32m      5\u001b[0m \u001b[0;31m# need to start the full eventloop for the window.\u001b[0m\u001b[0;34m\u001b[0m\u001b[0;34m\u001b[0m\u001b[0m\n\u001b[1;32m      6\u001b[0m \u001b[0;31m# close it to return control to the notebook\u001b[0m\u001b[0;34m\u001b[0m\u001b[0;34m\u001b[0m\u001b[0m\n",
      "\u001b[0;31mNameError\u001b[0m: name 'Result' is not defined"
     ]
    }
   ],
   "source": [
    "# explore it in fancy 3D\n",
    "# fire up a mayavi2 window showing base mesh, charges on final mesh\n",
    "# and isosurfaces of the pseudopotential\n",
    "Result.view(prefix, \"RF\")\n",
    "# need to start the full eventloop for the window.\n",
    "# close it to return control to the notebook\n",
    "from pyface.api import GUI\n",
    "GUI().start_event_loop()\n"
   ]
  },
  {
   "cell_type": "code",
   "execution_count": 9,
   "metadata": {},
   "outputs": [
    {
     "ename": "ImportError",
     "evalue": "No module named electrode",
     "output_type": "error",
     "traceback": [
      "\u001b[0;31m---------------------------------------------------------------------------\u001b[0m",
      "\u001b[0;31mImportError\u001b[0m                               Traceback (most recent call last)",
      "\u001b[0;32m<ipython-input-9-e076530de733>\u001b[0m in \u001b[0;36m<module>\u001b[0;34m()\u001b[0m\n\u001b[0;32m----> 1\u001b[0;31m \u001b[0;32mfrom\u001b[0m \u001b[0melectrode\u001b[0m \u001b[0;32mimport\u001b[0m \u001b[0mSystem\u001b[0m\u001b[0;34m,\u001b[0m \u001b[0mGridElectrode\u001b[0m\u001b[0;34m\u001b[0m\u001b[0m\n\u001b[0m\u001b[1;32m      2\u001b[0m \u001b[0;34m\u001b[0m\u001b[0m\n\u001b[1;32m      3\u001b[0m \u001b[0;31m# load the electrostatics results into a electrode.System()\u001b[0m\u001b[0;34m\u001b[0m\u001b[0;34m\u001b[0m\u001b[0m\n\u001b[1;32m      4\u001b[0m \u001b[0ms\u001b[0m \u001b[0;34m=\u001b[0m \u001b[0mSystem\u001b[0m\u001b[0;34m(\u001b[0m\u001b[0;34m)\u001b[0m\u001b[0;34m\u001b[0m\u001b[0m\n\u001b[1;32m      5\u001b[0m \u001b[0;32mfor\u001b[0m \u001b[0mname\u001b[0m \u001b[0;32min\u001b[0m \u001b[0;34m\"DC1 DC2 DC3 DC4 DC5 RF\"\u001b[0m\u001b[0;34m.\u001b[0m\u001b[0msplit\u001b[0m\u001b[0;34m(\u001b[0m\u001b[0;34m)\u001b[0m\u001b[0;34m:\u001b[0m\u001b[0;34m\u001b[0m\u001b[0m\n",
      "\u001b[0;31mImportError\u001b[0m: No module named electrode"
     ]
    }
   ],
   "source": [
    "from electrode import System, GridElectrode\n",
    "\n",
    "# load the electrostatics results into a electrode.System()\n",
    "s = System()\n",
    "for name in \"DC1 DC2 DC3 DC4 DC5 RF\".split():\n",
    "    r = Result.from_vtk(prefix, name)\n",
    "    e = GridElectrode.from_result(r)\n",
    "    e.name = name\n",
    "    s.append(e)\n",
    "s[\"RF\"].rf = 1."
   ]
  },
  {
   "cell_type": "code",
   "execution_count": 10,
   "metadata": {},
   "outputs": [
    {
     "ename": "AttributeError",
     "evalue": "'float' object has no attribute 'minimum'",
     "output_type": "error",
     "traceback": [
      "\u001b[0;31m---------------------------------------------------------------------------\u001b[0m",
      "\u001b[0;31mAttributeError\u001b[0m                            Traceback (most recent call last)",
      "\u001b[0;32m<ipython-input-10-265456dd7c23>\u001b[0m in \u001b[0;36m<module>\u001b[0;34m()\u001b[0m\n\u001b[1;32m      1\u001b[0m \u001b[0;32mfrom\u001b[0m \u001b[0mscipy\u001b[0m\u001b[0;34m.\u001b[0m\u001b[0mconstants\u001b[0m \u001b[0;32mimport\u001b[0m \u001b[0matomic_mass\u001b[0m\u001b[0;34m\u001b[0m\u001b[0m\n\u001b[0;32m----> 2\u001b[0;31m \u001b[0mx0\u001b[0m \u001b[0;34m=\u001b[0m \u001b[0ms\u001b[0m\u001b[0;34m.\u001b[0m\u001b[0mminimum\u001b[0m\u001b[0;34m(\u001b[0m\u001b[0;34m(\u001b[0m\u001b[0;36m0\u001b[0m\u001b[0;34m,\u001b[0m \u001b[0;36m0\u001b[0m\u001b[0;34m,\u001b[0m \u001b[0;36m1.\u001b[0m\u001b[0;34m)\u001b[0m\u001b[0;34m)\u001b[0m\u001b[0;34m\u001b[0m\u001b[0m\n\u001b[0m\u001b[1;32m      3\u001b[0m for _ in s.analyze_static(x0, m=25*atomic_mass, u=50.,\n\u001b[1;32m      4\u001b[0m                           l=40e-6, o=100e6*2*np.pi):\n\u001b[1;32m      5\u001b[0m     \u001b[0;32mprint\u001b[0m \u001b[0m_\u001b[0m\u001b[0;34m\u001b[0m\u001b[0m\n",
      "\u001b[0;31mAttributeError\u001b[0m: 'float' object has no attribute 'minimum'"
     ]
    }
   ],
   "source": [
    "from scipy.constants import atomic_mass\n",
    "x0 = s.minimum((0, 0, 1.))\n",
    "for _ in s.analyze_static(x0, m=25*atomic_mass, u=50.,\n",
    "                          l=40e-6, o=100e6*2*np.pi):\n",
    "    print _"
   ]
  },
  {
   "cell_type": "code",
   "execution_count": 11,
   "metadata": {},
   "outputs": [
    {
     "ename": "AttributeError",
     "evalue": "'float' object has no attribute 'potential'",
     "output_type": "error",
     "traceback": [
      "\u001b[0;31m---------------------------------------------------------------------------\u001b[0m",
      "\u001b[0;31mAttributeError\u001b[0m                            Traceback (most recent call last)",
      "\u001b[0;32m<ipython-input-11-e6debcab3380>\u001b[0m in \u001b[0;36m<module>\u001b[0;34m()\u001b[0m\n\u001b[1;32m      3\u001b[0m \u001b[0;31m#xyz = np.mgrid[0:1, -.02:.02:1j*n, .5:1.5:1j*n]\u001b[0m\u001b[0;34m\u001b[0m\u001b[0;34m\u001b[0m\u001b[0m\n\u001b[1;32m      4\u001b[0m \u001b[0mxyz\u001b[0m \u001b[0;34m=\u001b[0m \u001b[0mgrid\u001b[0m\u001b[0;34m.\u001b[0m\u001b[0mto_mgrid\u001b[0m\u001b[0;34m(\u001b[0m\u001b[0;34m)\u001b[0m\u001b[0;34m\u001b[0m\u001b[0m\n\u001b[0;32m----> 5\u001b[0;31m \u001b[0mp\u001b[0m \u001b[0;34m=\u001b[0m \u001b[0ms\u001b[0m\u001b[0;34m.\u001b[0m\u001b[0mpotential\u001b[0m\u001b[0;34m(\u001b[0m\u001b[0mxyz\u001b[0m\u001b[0;34m.\u001b[0m\u001b[0mreshape\u001b[0m\u001b[0;34m(\u001b[0m\u001b[0;36m3\u001b[0m\u001b[0;34m,\u001b[0m \u001b[0;34m-\u001b[0m\u001b[0;36m1\u001b[0m\u001b[0;34m)\u001b[0m\u001b[0;34m.\u001b[0m\u001b[0mT\u001b[0m\u001b[0;34m,\u001b[0m \u001b[0;36m0\u001b[0m\u001b[0;34m)\u001b[0m\u001b[0;34m.\u001b[0m\u001b[0mreshape\u001b[0m\u001b[0;34m(\u001b[0m\u001b[0mxyz\u001b[0m\u001b[0;34m[\u001b[0m\u001b[0;36m0\u001b[0m\u001b[0;34m]\u001b[0m\u001b[0;34m.\u001b[0m\u001b[0mshape\u001b[0m\u001b[0;34m)\u001b[0m\u001b[0;34m\u001b[0m\u001b[0m\n\u001b[0m\u001b[1;32m      6\u001b[0m \u001b[0mv\u001b[0m \u001b[0;34m=\u001b[0m \u001b[0mnp\u001b[0m\u001b[0;34m.\u001b[0m\u001b[0mlinspace\u001b[0m\u001b[0;34m(\u001b[0m\u001b[0;36m0\u001b[0m\u001b[0;34m,\u001b[0m \u001b[0;36m2e-2\u001b[0m\u001b[0;34m,\u001b[0m \u001b[0;36m21\u001b[0m\u001b[0;34m)\u001b[0m\u001b[0;34m\u001b[0m\u001b[0m\n\u001b[1;32m      7\u001b[0m \u001b[0mfig\u001b[0m\u001b[0;34m,\u001b[0m \u001b[0max\u001b[0m \u001b[0;34m=\u001b[0m \u001b[0mplt\u001b[0m\u001b[0;34m.\u001b[0m\u001b[0msubplots\u001b[0m\u001b[0;34m(\u001b[0m\u001b[0;34m)\u001b[0m\u001b[0;34m\u001b[0m\u001b[0m\n",
      "\u001b[0;31mAttributeError\u001b[0m: 'float' object has no attribute 'potential'"
     ]
    }
   ],
   "source": [
    "n = 30\n",
    "#xyz = np.mgrid[-.1:.1:1j*n, -.1:.1:1j*n, 1.12:2]\n",
    "#xyz = np.mgrid[0:1, -.02:.02:1j*n, .5:1.5:1j*n]\n",
    "xyz = grid.to_mgrid()\n",
    "p = s.potential(xyz.reshape(3, -1).T, 0).reshape(xyz[0].shape)\n",
    "v = np.linspace(0, 2e-2, 21)\n",
    "fig, ax = plt.subplots()\n",
    "ax.set_aspect(\"equal\")\n",
    "ax.contour(xyz[1, 10, :, :], xyz[2, 10, :, :], p[10, :, :], v, cmap=plt.cm.Reds_r)"
   ]
  },
  {
   "cell_type": "code",
   "execution_count": null,
   "metadata": {},
   "outputs": [],
   "source": []
  },
  {
   "cell_type": "code",
   "execution_count": null,
   "metadata": {},
   "outputs": [],
   "source": []
  },
  {
   "cell_type": "code",
   "execution_count": null,
   "metadata": {},
   "outputs": [],
   "source": []
  }
 ],
 "metadata": {
  "kernelspec": {
   "display_name": "Python 2",
   "language": "python",
   "name": "python2"
  },
  "language_info": {
   "codemirror_mode": {
    "name": "ipython",
    "version": 2
   },
   "file_extension": ".py",
   "mimetype": "text/x-python",
   "name": "python",
   "nbconvert_exporter": "python",
   "pygments_lexer": "ipython2",
   "version": "2.7.15"
  }
 },
 "nbformat": 4,
 "nbformat_minor": 2
}
