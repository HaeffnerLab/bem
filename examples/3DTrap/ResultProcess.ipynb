{
 "cells": [
  {
   "cell_type": "code",
   "execution_count": 1,
   "metadata": {},
   "outputs": [
    {
     "name": "stdout",
     "output_type": "stream",
     "text": [
      "/home/wwc/bem_git/bem/examples/SimpleTrap\n",
      "/home/wwc/anaconda3/envs/ele36/bin/python\n"
     ]
    }
   ],
   "source": [
    "!pwd\n",
    "!which python"
   ]
  },
  {
   "cell_type": "code",
   "execution_count": 1,
   "metadata": {},
   "outputs": [],
   "source": [
    "import sys\n",
    "import logging, os\n",
    "import numpy as np\n",
    "# To import pyface.py is just for setting \"Qt\" sip API version to 2 before matplotlib sets it to default v1 \n",
    "# that is incompatible with \"pyside\" in package \"mayavi\". wwc\n",
    "import pyface.qt    \n",
    "import matplotlib.pyplot as plt\n",
    "from multiprocessing import Pool    # parallel computation.\n",
    "\n",
    "sys.path.append('../../')   # add path of package \"bem\" to search list. wwc\n",
    "sys.path.append('../../../electrode/')   # add path of package \"electrode\" to search list. wwc"
   ]
  },
  {
   "cell_type": "code",
   "execution_count": 2,
   "metadata": {
    "scrolled": true
   },
   "outputs": [
    {
     "name": "stdout",
     "output_type": "stream",
     "text": [
      "<electrode.electrode.GridElectrode object at 0x7f5157bbe5c8> 50.0\n",
      "<electrode.electrode.GridElectrode object at 0x7f5157bbe5c8> 50.0\n"
     ]
    }
   ],
   "source": [
    "# electrode is an another package in nist-ionstorage github. wwc\n",
    "from electrode import System, GridElectrode\n",
    "\n",
    "# load the electrostatics results into a electrode.System()\n",
    "s = System()\n",
    "for name in \"DC1 DC2 DC3 DC4 DC5 RF\".split():    #  DC2 DC3 DC4 DC5 RF\n",
    "    # r = Result.from_vtk(prefix, name)\n",
    "    # r after from_result(): e ~ obj = cls(origin=origin, spacing=spacing, data=pot). \n",
    "    # A vtk file after from_vtk(): obj = cls(origin=origin, spacing=spacing, data=pot). \n",
    "    # So after using from_vtk() we jump over r and get to e.\n",
    "    e = GridElectrode.from_vtk(\"SimpleTrap_\"+name+\".vtk\",maxderiv=4)    # from_vtk() is classmethod()\n",
    "    e.name = name\n",
    "    s.append(e)    # class System(list), System inherits list method \"append\" wwc\n",
    "s[\"RF\"].rf = 50.  # s[\"RF\"] == e, create attribute e.rf  wwc\n",
    "# For why instance s is subscriptable (can use []), this relates to \"__getitem__() method\" in System() class.  wwc\n",
    "print(s[\"RF\"],s[\"RF\"].rf)\n",
    "print(e,e.rf)"
   ]
  },
  {
   "cell_type": "code",
   "execution_count": 3,
   "metadata": {},
   "outputs": [
    {
     "name": "stdout",
     "output_type": "stream",
     "text": [
      "offset: [ 0.00321511 -0.39990715 -0.60296574]\n",
      "\n",
      "parameters:\n",
      " f=100 MHz, m=25 amu, q=1 qe, l=40 µm, scale=0.0391 V'/V_SI\n",
      "coordinates:\n",
      " analyze point: [0.00321511 0.10009285 0.89703426]\n",
      "               ([ 0.12860429  4.00371394 35.8813702 ] µm)\n",
      " minimum is at offset: [0. 0. 0.]\n",
      "                      ([0. 0. 0.] µm)\n",
      "potential:\n",
      " dc electrical: 1.4 eV\n",
      " rf pseudo: 0.00016 eV\n",
      " saddle offset: [2.36604809e-02 7.29307472e-05 8.52093396e-06]\n",
      "               ([9.46419235e-01 2.91722989e-03 3.40837358e-04] µm)\n",
      " saddle height: -7.2e-07 eV\n",
      "force:\n",
      " dc electrical: [ 0.00093902 -0.18838949  0.29004117] eV/l\n",
      "               ([   23.475534   -4709.73718345  7251.02928777] eV/m)\n",
      " rf pseudo: [-1.86497125e-05  1.76820860e-01 -2.88422921e-01] eV/l\n",
      "           ([-4.66242812e-01  4.42052149e+03 -7.21057302e+03] eV/m)\n",
      "modes:\n",
      " pp+dc normal curvatures: [3.03697646e-01 7.15252334e+02 7.19482538e+02]\n",
      " motion is bounded: False\n",
      " pseudopotential modes:\n",
      "  a: 4.308 MHz, [9.99996228e-01 2.56066832e-03 9.93622605e-04]\n",
      "  b: 209.1 MHz, [-0.002727    0.88234259  0.47059974]\n",
      "  c: 209.7 MHz, [ 3.28334305e-04 -4.70600676e-01  8.82346245e-01]\n",
      "  euler angles (rzxz): [ 0.0399748  28.07330221  0.12097392] deg\n",
      " mathieu modes:\n",
      "  a: 4.328 MHz, [9.96269392e-01 2.54956680e-03 9.86385068e-04]\n",
      "  b: 50 MHz, [-0.00019476  0.11858009 -0.1103183 ]\n",
      "  c: 50 MHz, [ 0.00019476 -0.11858009  0.1103183 ]\n",
      "  euler angles (rzxz): [9.41044811e-02 4.50011451e+01 1.79487717e+02] deg\n",
      " heating for 1 nV²/Hz white uncorrelated on each electrode:\n",
      "  field-noise psd: [1.28082157e-12 1.89927810e-11 3.17975165e-11] V²/(m² Hz)\n",
      "  a: ndot=68.54 /s, S_E*f=5.502e-06 (V² Hz)/(m² Hz)\n",
      "  b: ndot=5.91 /s, S_E*f=6.333e-05 (V² Hz)/(m² Hz)\n",
      "  c: ndot=5.91 /s, S_E*f=6.333e-05 (V² Hz)/(m² Hz)\n"
     ]
    }
   ],
   "source": [
    "from scipy.constants import atomic_mass\n",
    "s[\"RF\"].rf = 50.\n",
    "s[\"DC1\"].dc = 8\n",
    "s[\"DC4\"].dc = 8\n",
    "s[\"DC5\"].dc = 2\n",
    "xi = (0, 0.5, 1.5)\n",
    "x0 = s.minimum(xi)\n",
    "print(\"offset: %s\\n\"%(x0-xi))\n",
    "# analyze_static(x, axis=(0, 1, 2), m=ct.atomic_mass, q=ct.elementary_charge, l=100e-6, o=2*np.pi*1e6, ions=1, log=None):\n",
    "for line in s.analyze_static(x0, m=25*atomic_mass, l=40e-6, o=100e6*2*np.pi):      # u=50., # u is V rf peak voltage, but it causes error.\n",
    "    print(line)"
   ]
  },
  {
   "cell_type": "code",
   "execution_count": 4,
   "metadata": {},
   "outputs": [],
   "source": [
    "# # To understand the data structure of GridElectrode.data.  wwc\n",
    "# print(e.origin, e.spacing)\n",
    "# print(len(e.data),type(e.data))  # [pot_array,field_array,2nd_pot_array,3rd_pot_array], 0~3,4th derivative order.\n",
    "# print(type(e.data[0]),type(e.data[1]))  # All list elements are ndarray.\n",
    "# print(e.data[0].shape,e.data[1].shape)    # (nx,ny,nz,components)\n",
    "# print(e.data[0])    # potential\n",
    "# # [[[[p(x0,y0,z0)],\n",
    "# #    [p(x0,y0,z1)],\n",
    "# #    [p(x0,y0,z2)]],\n",
    "# #    \n",
    "# #   [[p(x0,y1,z0)],\n",
    "# #    [p(x0,y1,z1)],\n",
    "# #    [p(x0,y1,z2)]],     \n",
    "# #\n",
    "# #   ]]"
   ]
  },
  {
   "cell_type": "code",
   "execution_count": 5,
   "metadata": {},
   "outputs": [],
   "source": [
    "# This is from electrode turtorial.ipynb  wwc\n",
    "# import scipy.constants as ct\n",
    "# l = 30e-6 # µm length scale\n",
    "# u = 20. # V rf peak voltage\n",
    "# m = 25*ct.atomic_mass # ion mass\n",
    "# q = 1*ct.elementary_charge # ion charge\n",
    "# o = 2*np.pi*100e6 # rf frequency in rad/s\n",
    "# s[\"RF\"].rf = u*np.sqrt(q/m)/(2*l*o)\n",
    "# print(s[\"RF\"])\n",
    "\n",
    "# x0 = s.minimum((0, 0, 1.), axis=(1, 2))\n",
    "\n",
    "# for line in s.analyze_static(x0, axis=(1,0), m=m, q=q, l=l, o=o):\n",
    "#     print(line)"
   ]
  },
  {
   "cell_type": "code",
   "execution_count": null,
   "metadata": {},
   "outputs": [],
   "source": []
  }
 ],
 "metadata": {
  "kernelspec": {
   "display_name": "Python 3",
   "language": "python",
   "name": "python3"
  },
  "language_info": {
   "codemirror_mode": {
    "name": "ipython",
    "version": 3
   },
   "file_extension": ".py",
   "mimetype": "text/x-python",
   "name": "python",
   "nbconvert_exporter": "python",
   "pygments_lexer": "ipython3",
   "version": "3.6.6"
  }
 },
 "nbformat": 4,
 "nbformat_minor": 2
}
