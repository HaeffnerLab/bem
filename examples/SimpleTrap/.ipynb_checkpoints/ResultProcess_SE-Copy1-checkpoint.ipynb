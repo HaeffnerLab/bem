{
 "cells": [
  {
   "cell_type": "code",
   "execution_count": 1,
   "metadata": {},
   "outputs": [
    {
     "name": "stdout",
     "output_type": "stream",
     "text": [
      "/home/wwc/bem_git/bem/examples/SimpleTrap\n",
      "/home/wwc/anaconda3/envs/ele36/bin/python\n"
     ]
    }
   ],
   "source": [
    "!pwd\n",
    "!which python"
   ]
  },
  {
   "cell_type": "code",
   "execution_count": 1,
   "metadata": {},
   "outputs": [],
   "source": [
    "import sys\n",
    "import logging, os\n",
    "import numpy as np\n",
    "# To import pyface.py is just for setting \"Qt\" sip API version to 2 before matplotlib sets it to default v1 \n",
    "# that is incompatible with \"pyside\" in package \"mayavi\". wwc\n",
    "import pyface.qt    \n",
    "import matplotlib.pyplot as plt\n",
    "from multiprocessing import Pool    # parallel computation.\n",
    "\n",
    "sys.path.append('../../')   # add path of package \"bem\" to search list. wwc\n",
    "sys.path.append('../../../electrode/')   # add path of package \"electrode\" to search list. wwc"
   ]
  },
  {
   "cell_type": "code",
   "execution_count": 2,
   "metadata": {},
   "outputs": [],
   "source": [
    "prefix = \"SE_cos_m8\"\n",
    "suffix = \"\""
   ]
  },
  {
   "cell_type": "code",
   "execution_count": 3,
   "metadata": {
    "scrolled": true
   },
   "outputs": [
    {
     "name": "stdout",
     "output_type": "stream",
     "text": [
      "<electrode.electrode.GridElectrode object at 0x7fe083e93d00> 0.0\n",
      "<electrode.electrode.GridElectrode object at 0x7fe083e93d00> 0.0\n"
     ]
    }
   ],
   "source": [
    "# electrode is an another package in nist-ionstorage github. wwc\n",
    "from electrode import System, GridElectrode\n",
    "\n",
    "# load the electrostatics results into a electrode.System()\n",
    "s = System()\n",
    "for name in \"DC1 DC2 DC3 DC4 DC5 DC6 RF\".split():    #  DC2 DC3 DC4 DC5 RF\n",
    "    # r = Result.from_vtk(prefix, name)\n",
    "    # r after from_result(): e ~ obj = cls(origin=origin, spacing=spacing, data=pot). \n",
    "    # A vtk file after from_vtk(): obj = cls(origin=origin, spacing=spacing, data=pot). \n",
    "    # So after using from_vtk() we jump over r and get to e.\n",
    "    e = GridElectrode.from_vtk(\"%s%s_\"%(prefix,suffix)+name+\".vtk\",maxderiv=4)    # from_vtk() is classmethod()\n",
    "    e.name = name\n",
    "    s.append(e)    # class System(list), System inherits list method \"append\" wwc\n",
    "# For why instance s is subscriptable (can use []), this relates to \"__getitem__() method\" in System() class.  wwc\n",
    "print(s[\"RF\"],s[\"RF\"].rf)\n",
    "print(e,e.rf)"
   ]
  },
  {
   "cell_type": "code",
   "execution_count": 139,
   "metadata": {
    "scrolled": true
   },
   "outputs": [
    {
     "name": "stdout",
     "output_type": "stream",
     "text": [
      "DC1 1.6 V\n",
      "DC2 3.59 V\n",
      "DC3 3.69 V\n",
      "DC4 -4.49 V\n",
      "DC5 5.0 V\n",
      "DC6 0.0 V\n",
      "RF 4.704662409413009 V\n",
      "\n",
      "x0 [0.    1.126 1.03 ]\n",
      "minimum offset: [-0.1    0.326  0.23 ]\n",
      "\n",
      "parameters:\n",
      " f=87 MHz, m=24.3 amu, q=1 qe, l=40 µm, scale=0.0456 V'/V_SI\n",
      "coordinates:\n",
      " analyze point: [0.    1.126 1.03 ]\n",
      "               ([ 0.   45.04 41.2 ] µm)\n",
      " minimum is at offset: [0. 0. 0.]\n",
      "                      ([0. 0. 0.] µm)\n",
      "potential:\n",
      " dc electrical: 0.87 eV\n",
      " rf pseudo: 0.00092 eV\n",
      " saddle offset: [ 1.70960381  0.03924992 -0.02094346]\n",
      "               ([68.38415249  1.56999673 -0.8377385 ] µm)\n",
      " saddle height: 0.11 eV\n",
      "force:\n",
      " dc electrical: [ 0.0412845  -0.02136408 -0.0419917 ] eV/l\n",
      "               ([ 1032.11245425  -534.10196975 -1049.79253175] eV/m)\n",
      " rf pseudo: [-0.000239    0.0127934   0.07675318] eV/l\n",
      "           ([  -5.9750068   319.83488929 1918.82946557] eV/m)\n",
      "modes:\n",
      " pp+dc normal curvatures: [0.08876266 3.13024284 3.95653276]\n",
      " motion is bounded: True\n",
      " pseudopotential modes:\n",
      "  a: 2.362 MHz, [0.99982782 0.01843523 0.00211265]\n",
      "  b: 14.03 MHz, [-0.01299961  0.61464572  0.78869617]\n",
      "  c: 15.77 MHz, [ 0.01324126 -0.78858784  0.61477955]\n",
      "  euler angles (rzxz): [ 0.96196924 52.06409643  0.15347578] deg\n",
      " mathieu modes:\n",
      "  a: 2.364 MHz, [0.99831016 0.01927843 0.00214494]\n",
      "  b: 14.81 MHz, [-0.01371623  0.71823198  0.51124697]\n",
      "  c: 16.6 MHz, [ 0.00718786 -0.50379781  0.70780406]\n",
      "  euler angles (rzxz): [ 0.81740376 35.84082607  0.2403835 ] deg\n",
      " heating for 1 nV²/Hz white uncorrelated on each electrode:\n",
      "  field-noise psd: [7.32210997e-13 1.50694531e-11 2.22697158e-11] V²/(m² Hz)\n",
      "  a: ndot=74.93 /s, S_E*f=1.745e-06 (V² Hz)/(m² Hz)\n",
      "  b: ndot=14.51 /s, S_E*f=1.326e-05 (V² Hz)/(m² Hz)\n",
      "  c: ndot=395 /s, S_E*f=0.0004533 (V² Hz)/(m² Hz)\n"
     ]
    }
   ],
   "source": [
    "import scipy.constants as ct\n",
    "l = 40e-6 # length scale\n",
    "u = 103.25 # peak rf voltage\n",
    "o = 87e6*2*np.pi # rf frequency\n",
    "m = 24.3*ct.atomic_mass # ion mass\n",
    "q = 1*ct.elementary_charge # ion charge\n",
    "\n",
    "V5 = 5.0\n",
    "DCvol = {\"DC1\":0.320*V5,\"DC2\":0.718*V5,\"DC3\":0.738*V5,\"DC4\":-0.898*V5,\"DC5\":V5,\"DC6\":0.*V5}\n",
    "for edc in DCvol:\n",
    "    s[edc].dc = DCvol[edc]\n",
    "    print(edc,s[edc].dc,\"V\")\n",
    "# Pay attention to s.rf_scale(m,q,l,o) pesudo potential coefficient! See blakestad2010 Eq.(5.2).  wwc\n",
    "s[\"RF\"].rf = s.rf_scale(m,q,l,o)*103.25    # s[\"RF\"] == e, create attribute e.rf  wwc\n",
    "# s[\"RF\"].rf = u*np.sqrt(q/m)/(2*l*o)\n",
    "print(\"RF\",s[\"RF\"].rf,\"V\")\n",
    "\n",
    "xi = (0.1, 0.8, 0.8)\n",
    "#x0 = s.minimum(xi)\n",
    "print(\"\\nx0\",x0)\n",
    "print(\"minimum offset: %s\\n\"%(x0-xi))\n",
    "x0 = np.array([0.0,1.126,1.03])\n",
    "# analyze_static(x, axis=(0, 1, 2), m=ct.atomic_mass, q=ct.elementary_charge, l=100e-6, o=2*np.pi*1e6, ions=1, log=None):\n",
    "for line in s.analyze_static(x0, m=m, q=q, l=l, o=o):      # u=50., # u is V rf peak voltage, but it causes error.\n",
    "    print(line)"
   ]
  },
  {
   "cell_type": "code",
   "execution_count": 6,
   "metadata": {},
   "outputs": [],
   "source": [
    "# # To understand the data structure of GridElectrode.data.  wwc\n",
    "# print(e.origin, e.spacing)\n",
    "# print(len(e.data),type(e.data))  # [pot_array,field_array,2nd_pot_array,3rd_pot_array], 0~3,4th derivative order.\n",
    "# print(type(e.data[0]),type(e.data[1]))  # All list elements are ndarray.\n",
    "# print(e.data[0].shape,e.data[1].shape)    # (nx,ny,nz,components)\n",
    "# print(e.data[0])    # potential\n",
    "# # [[[[p(x0,y0,z0)],\n",
    "# #    [p(x0,y0,z1)],\n",
    "# #    [p(x0,y0,z2)]],\n",
    "# #    \n",
    "# #   [[p(x0,y1,z0)],\n",
    "# #    [p(x0,y1,z1)],\n",
    "# #    [p(x0,y1,z2)]],     \n",
    "# #\n",
    "# #   ]]"
   ]
  },
  {
   "cell_type": "code",
   "execution_count": 7,
   "metadata": {},
   "outputs": [],
   "source": [
    "# This is from electrode turtorial.ipynb  wwc\n",
    "# import scipy.constants as ct\n",
    "# l = 30e-6 # µm length scale\n",
    "# u = 20. # V rf peak voltage\n",
    "# m = 25*ct.atomic_mass # ion mass\n",
    "# q = 1*ct.elementary_charge # ion charge\n",
    "# o = 2*np.pi*100e6 # rf frequency in rad/s\n",
    "# s[\"RF\"].rf = u*np.sqrt(q/m)/(2*l*o)\n",
    "# print(s[\"RF\"])\n",
    "\n",
    "# x0 = s.minimum((0, 0, 1.), axis=(1, 2))\n",
    "\n",
    "# for line in s.analyze_static(x0, axis=(1,0), m=m, q=q, l=l, o=o):\n",
    "#     print(line)"
   ]
  },
  {
   "cell_type": "code",
   "execution_count": 59,
   "metadata": {},
   "outputs": [],
   "source": [
    "# Test np.linalg.eigh.\n",
    "# mat = np.array([[3,0,1],[0,2,0],[1,0,3]])\n",
    "# print(mat)\n",
    "# np.linalg.eigh(mat)"
   ]
  },
  {
   "cell_type": "code",
   "execution_count": 60,
   "metadata": {},
   "outputs": [
    {
     "ename": "ValueError",
     "evalue": "failed, 0, Warning: Maximum number of iterations has been exceeded.,      fun: 0.9063083556399262\n     jac: array([ 0.04587091, -0.00075028, -0.06226796])\n message: 'Warning: Maximum number of iterations has been exceeded.'\n    nfev: 606\n    nhev: 600\n     nit: 600\n    njev: 1205\n  status: 1\n success: False\n       x: array([-0.02956139,  1.12265346,  1.00964432])",
     "output_type": "error",
     "traceback": [
      "\u001b[0;31m---------------------------------------------------------------------------\u001b[0m",
      "\u001b[0;31mValueError\u001b[0m                                Traceback (most recent call last)",
      "\u001b[0;32m<ipython-input-60-0d692dbba5a4>\u001b[0m in \u001b[0;36m<module>\u001b[0;34m()\u001b[0m\n\u001b[1;32m      1\u001b[0m \u001b[0;31m# x is single point coord. x will be round to neatest points so x never go beyond boundary.\u001b[0m\u001b[0;34m\u001b[0m\u001b[0;34m\u001b[0m\u001b[0m\n\u001b[1;32m      2\u001b[0m \u001b[0mxi\u001b[0m \u001b[0;34m=\u001b[0m \u001b[0;34m(\u001b[0m\u001b[0;36m0.\u001b[0m\u001b[0;34m,\u001b[0m \u001b[0;36m1.2\u001b[0m\u001b[0;34m,\u001b[0m \u001b[0;36m1.2\u001b[0m\u001b[0;34m)\u001b[0m\u001b[0;34m\u001b[0m\u001b[0m\n\u001b[0;32m----> 3\u001b[0;31m \u001b[0mx0\u001b[0m \u001b[0;34m=\u001b[0m \u001b[0ms\u001b[0m\u001b[0;34m.\u001b[0m\u001b[0mminimum\u001b[0m\u001b[0;34m(\u001b[0m\u001b[0mxi\u001b[0m\u001b[0;34m)\u001b[0m\u001b[0;34m\u001b[0m\u001b[0m\n\u001b[0m\u001b[1;32m      4\u001b[0m \u001b[0mprint\u001b[0m\u001b[0;34m(\u001b[0m\u001b[0;34m\"\\nx0\"\u001b[0m\u001b[0;34m,\u001b[0m\u001b[0mx0\u001b[0m\u001b[0;34m)\u001b[0m\u001b[0;34m\u001b[0m\u001b[0m\n\u001b[1;32m      5\u001b[0m \u001b[0mprint\u001b[0m\u001b[0;34m(\u001b[0m\u001b[0;34m\"minimum offset: %s\\n\"\u001b[0m\u001b[0;34m%\u001b[0m\u001b[0;34m(\u001b[0m\u001b[0mx0\u001b[0m\u001b[0;34m-\u001b[0m\u001b[0mxi\u001b[0m\u001b[0;34m)\u001b[0m\u001b[0;34m)\u001b[0m\u001b[0;34m\u001b[0m\u001b[0m\n",
      "\u001b[0;32m~/bem_git/electrode/electrode/system.py\u001b[0m in \u001b[0;36mminimum\u001b[0;34m(self, x0, axis, coord, method, **kwargs)\u001b[0m\n\u001b[1;32m    443\u001b[0m         \u001b[0;32mif\u001b[0m \u001b[0;32mnot\u001b[0m \u001b[0mres\u001b[0m\u001b[0;34m.\u001b[0m\u001b[0msuccess\u001b[0m\u001b[0;34m:\u001b[0m\u001b[0;34m\u001b[0m\u001b[0m\n\u001b[1;32m    444\u001b[0m             raise ValueError(\"failed, %i, %s, %s\" % (res.success,\n\u001b[0;32m--> 445\u001b[0;31m                 res.message, res))\n\u001b[0m\u001b[1;32m    446\u001b[0m         \u001b[0mx\u001b[0m\u001b[0;34m[\u001b[0m\u001b[0maxis\u001b[0m\u001b[0;34m]\u001b[0m \u001b[0;34m=\u001b[0m \u001b[0mres\u001b[0m\u001b[0;34m.\u001b[0m\u001b[0mx\u001b[0m\u001b[0;34m\u001b[0m\u001b[0m\n\u001b[1;32m    447\u001b[0m         \u001b[0;32mreturn\u001b[0m \u001b[0mx\u001b[0m\u001b[0;34m\u001b[0m\u001b[0m\n",
      "\u001b[0;31mValueError\u001b[0m: failed, 0, Warning: Maximum number of iterations has been exceeded.,      fun: 0.9063083556399262\n     jac: array([ 0.04587091, -0.00075028, -0.06226796])\n message: 'Warning: Maximum number of iterations has been exceeded.'\n    nfev: 606\n    nhev: 600\n     nit: 600\n    njev: 1205\n  status: 1\n success: False\n       x: array([-0.02956139,  1.12265346,  1.00964432])"
     ]
    }
   ],
   "source": [
    "# x is single point coord. x will be round to neatest points so x never go beyond boundary.\n",
    "xi = (0., 1.2, 1.2)\n",
    "x0 = s.minimum(xi)\n",
    "print(\"\\nx0\",x0)\n",
    "print(\"minimum offset: %s\\n\"%(x0-xi))\n",
    "#x0 = np.array([0.0,1.0,1.0])\n",
    "print(\"potential at x0:\",s.potential(x=x0,derivative=0)[0])\n",
    "print(\"min DC1 potential:\",np.amin(s[\"DC1\"].data[0]))\n",
    "print()\n",
    "\n",
    "print(s.potential(x0, 2)[0])\n",
    "eigen = np.linalg.eigh(s.potential(x0, 2)[0])\n",
    "print(eigen)\n",
    "s.modes(x0)"
   ]
  },
  {
   "cell_type": "code",
   "execution_count": 138,
   "metadata": {},
   "outputs": [
    {
     "name": "stdout",
     "output_type": "stream",
     "text": [
      "10 -0.025000000000000022\n",
      "[slice(-0.525, 0.475, 21j), slice(0.275, 1.975, 35j), slice(0.475, 2.475, 41j)]\n",
      "(3, 35, 41)\n",
      "(35, 41)\n",
      "\n",
      "minimum: [0.    1.126 1.03 ]\n",
      "minimum offset: [-0.1    0.326  0.23 ]\n",
      "\n",
      "saddle: [1.68282604 1.17503035 1.01799794]\n",
      "saddle offset: [ 1.68282604  0.04903035 -0.01200206]\n",
      "saddle height: [0.11208808]\n"
     ]
    },
    {
     "data": {
      "text/plain": [
       "[<matplotlib.lines.Line2D at 0x7fe064149048>]"
      ]
     },
     "execution_count": 138,
     "metadata": {},
     "output_type": "execute_result"
    },
    {
     "data": {
      "image/png": "[encoded data removed]",
      "text/plain": [
       "<Figure size 432x288 with 1 Axes>"
      ]
     },
     "metadata": {},
     "output_type": "display_data"
    }
   ],
   "source": [
    "start = np.array([-0.5,0.3,0.5])\n",
    "end = np.array([0.5,2.0,2.5])\n",
    "nextra = 1\n",
    "#print(1,start,end)\n",
    "ngd_s = np.floor((start-s[\"RF\"].origin)/s[\"RF\"].spacing).astype(int)\n",
    "ngd_e = np.floor((end-s[\"RF\"].origin)/s[\"RF\"].spacing).astype(int)\n",
    "#print(2,ngd_s,ngd_e)\n",
    "start = np.round(ngd_s*s[\"RF\"].spacing+s[\"RF\"].origin,5)    # round 5 digits.  wwc\n",
    "end = np.round(ngd_e*s[\"RF\"].spacing+s[\"RF\"].origin,5)\n",
    "#print(3,start,end)\n",
    "ngd = np.floor((end-start)/s[\"RF\"].spacing).astype(int)\n",
    "\n",
    "xpl = x0[0]\n",
    "xyz = [np.linspace(st,en,(ng+1)*nextra)     # xyz is the potential coords\n",
    "       for st,en,ng in zip(start,end,ngd)]\n",
    "xpln = np.rint((xpl-start[0])/s[\"RF\"].spacing[0]).astype(int)\n",
    "print(xpln,xyz[0][xpln])    # xyz[0][xpln] is the nearest grid point near xpl.\n",
    "slc = [slice(st,en,1j*(ng+1)*nextra) \n",
    "       for st,en,ng in zip(start,end,ngd)]    # mgrid slices\n",
    "print(slc)\n",
    "xyzg = np.mgrid[slc][:,xpln]    # yz plane\n",
    "#yzg = np.mgrid[[slc[1],slc[2]]]\n",
    "print(xyzg.shape)\n",
    "\n",
    "pot = []\n",
    "for y in xyz[1]:\n",
    "    # s.potential(x=(xpl,y,z),derivative=0) returns a shape (1,) array. array[pot(xpl,y,z)]. So add a [0].  wwc\n",
    "    potz = np.array([s.potential(x=(xpl,y,z),derivative=0)[0] for z in xyz[2] ])          \n",
    "    pot.append(potz)\n",
    "pot = np.array(pot)\n",
    "print(pot.shape)\n",
    "\n",
    "fig, ax = plt.subplots()\n",
    "ax.set_aspect(\"equal\")\n",
    "ax.contour(xyzg[1], xyzg[2], pot, levels=np.linspace(0, 1.5, 50), cmap=plt.cm.Blues)\n",
    "\n",
    "#xi = (0., 1.1, 1.1)\n",
    "#x01 = s.minimum(xi)\n",
    "#x0 = s.minimum(xi)\n",
    "x0 = np.array([0.0,1.126,1.03])\n",
    "print(\"\\nminimum:\",x0)\n",
    "print(\"minimum offset: %s\"%(x0-xi))\n",
    "xs,xsp = s.saddle(x0+1e-1*x0[2])\n",
    "p_dc = s.electrical_potential(x0,\"dc\",0)[0]\n",
    "p_rf = s.pseudo_potential(x0,0)[0]\n",
    "print(\"\\nsaddle:\",xs)\n",
    "print(\"saddle offset: %s\"%(xs-x0))\n",
    "print(\"saddle height:\",xsp-(p_dc+p_rf))\n",
    "ax.plot(x0[1],x0[2],'r+',markersize=10)\n",
    "ax.plot(xs[1],xs[2],'k+',markersize=10)"
   ]
  },
  {
   "cell_type": "code",
   "execution_count": 10,
   "metadata": {},
   "outputs": [],
   "source": [
    "#ar = [np.arange(st,en,spn) for st,en,spn in zip(start,end,s[\"RF\"].spacing/nextra)]\n",
    "#print(ar)\n",
    "# ngd = np.floor((end-start)/s[\"RF\"].spacing).astype(int)*nextra\n",
    "\n",
    "# pot = np.array([s.potential(x=(xpl,ar[1],ar[2]),derivative=0)])"
   ]
  },
  {
   "cell_type": "code",
   "execution_count": 11,
   "metadata": {},
   "outputs": [
    {
     "data": {
      "text/plain": [
       "(62, 62, 62)"
      ]
     },
     "execution_count": 11,
     "metadata": {},
     "output_type": "execute_result"
    }
   ],
   "source": [
    "s[\"DC1\"].data[0].shape\n",
    "s1 = s[\"DC1\"].data[0].reshape((62,62,62))\n",
    "s1.shape"
   ]
  },
  {
   "cell_type": "code",
   "execution_count": 12,
   "metadata": {},
   "outputs": [
    {
     "name": "stdout",
     "output_type": "stream",
     "text": [
      "[-1.525 -0.525 -0.525]\n",
      "[0.05 0.05 0.05]\n",
      "1 [-0.5  0.5  0.5] [0.5 2.  1.5]\n",
      "2 [20 20 20] [40 50 40]\n",
      "3 [-0.525  0.475  0.475] [0.475 1.975 1.475]\n",
      "[slice(-0.525, 0.475, 21j), slice(0.475, 1.975, 31j), slice(0.475, 1.475, 21j)]\n"
     ]
    }
   ],
   "source": [
    "print(s[\"RF\"].origin)\n",
    "print(s[\"RF\"].spacing)\n",
    "\n",
    "start = np.array([-0.5,0.5,0.5])\n",
    "end = np.array([0.5,2.0,1.5])\n",
    "print(1,start,end)\n",
    "ngd_s = np.floor((start-s[\"RF\"].origin)/s[\"RF\"].spacing).astype(int)\n",
    "ngd_e = np.floor((end-s[\"RF\"].origin)/s[\"RF\"].spacing).astype(int)\n",
    "print(2,ngd_s,ngd_e)\n",
    "start = np.round(ngd_s*s[\"RF\"].spacing+s[\"RF\"].origin,8)    # round 8 digits.  wwc\n",
    "end = np.round(ngd_e*s[\"RF\"].spacing+s[\"RF\"].origin,8)\n",
    "print(3,start,end)\n",
    "\n",
    "ngd = np.floor((end-start)/s[\"RF\"].spacing).astype(int)\n",
    "slc = [slice(st,en,1j*(ng+1)) \n",
    "       for st,en,ng in zip(start,end,ngd)]\n",
    "print(slc)\n",
    "#np.mgrid[slc]"
   ]
  },
  {
   "cell_type": "code",
   "execution_count": 13,
   "metadata": {},
   "outputs": [
    {
     "ename": "NameError",
     "evalue": "name 'd' is not defined",
     "output_type": "error",
     "traceback": [
      "\u001b[0;31m---------------------------------------------------------------------------\u001b[0m",
      "\u001b[0;31mNameError\u001b[0m                                 Traceback (most recent call last)",
      "\u001b[0;32m<ipython-input-13-50cfcdf721f9>\u001b[0m in \u001b[0;36m<module>\u001b[0;34m()\u001b[0m\n\u001b[1;32m      1\u001b[0m \u001b[0mn\u001b[0m \u001b[0;34m=\u001b[0m \u001b[0;36m50\u001b[0m\u001b[0;34m\u001b[0m\u001b[0m\n\u001b[0;32m----> 2\u001b[0;31m \u001b[0mxyz\u001b[0m \u001b[0;34m=\u001b[0m \u001b[0mnp\u001b[0m\u001b[0;34m.\u001b[0m\u001b[0mmgrid\u001b[0m\u001b[0;34m[\u001b[0m\u001b[0;34m-\u001b[0m\u001b[0md\u001b[0m\u001b[0;34m:\u001b[0m\u001b[0md\u001b[0m\u001b[0;34m:\u001b[0m\u001b[0;36m1j\u001b[0m\u001b[0;34m*\u001b[0m\u001b[0mn\u001b[0m\u001b[0;34m,\u001b[0m \u001b[0;34m-\u001b[0m\u001b[0md\u001b[0m\u001b[0;34m:\u001b[0m\u001b[0md\u001b[0m\u001b[0;34m:\u001b[0m\u001b[0;36m1j\u001b[0m\u001b[0;34m*\u001b[0m\u001b[0mn\u001b[0m\u001b[0;34m,\u001b[0m \u001b[0mh\u001b[0m\u001b[0;34m:\u001b[0m\u001b[0mh\u001b[0m\u001b[0;34m+\u001b[0m\u001b[0;36m1\u001b[0m\u001b[0;34m]\u001b[0m\u001b[0;34m\u001b[0m\u001b[0m\n\u001b[0m\u001b[1;32m      3\u001b[0m \u001b[0mfig\u001b[0m\u001b[0;34m,\u001b[0m \u001b[0max\u001b[0m \u001b[0;34m=\u001b[0m \u001b[0mplt\u001b[0m\u001b[0;34m.\u001b[0m\u001b[0msubplots\u001b[0m\u001b[0;34m(\u001b[0m\u001b[0;36m1\u001b[0m\u001b[0;34m,\u001b[0m \u001b[0;36m2\u001b[0m\u001b[0;34m,\u001b[0m \u001b[0msubplot_kw\u001b[0m\u001b[0;34m=\u001b[0m\u001b[0mdict\u001b[0m\u001b[0;34m(\u001b[0m\u001b[0maspect\u001b[0m\u001b[0;34m=\u001b[0m\u001b[0;34m\"equal\"\u001b[0m\u001b[0;34m)\u001b[0m\u001b[0;34m)\u001b[0m\u001b[0;34m\u001b[0m\u001b[0m\n\u001b[1;32m      4\u001b[0m \u001b[0mpot\u001b[0m \u001b[0;34m=\u001b[0m \u001b[0mshaped\u001b[0m\u001b[0;34m(\u001b[0m\u001b[0ms\u001b[0m\u001b[0;34m.\u001b[0m\u001b[0mpotential\u001b[0m\u001b[0;34m)\u001b[0m\u001b[0;34m(\u001b[0m\u001b[0mxyz\u001b[0m\u001b[0;34m)\u001b[0m\u001b[0;34m\u001b[0m\u001b[0m\n\u001b[1;32m      5\u001b[0m \u001b[0mv\u001b[0m \u001b[0;34m=\u001b[0m \u001b[0mnp\u001b[0m\u001b[0;34m.\u001b[0m\u001b[0marange\u001b[0m\u001b[0;34m(\u001b[0m\u001b[0;34m-\u001b[0m\u001b[0;36m15\u001b[0m\u001b[0;34m,\u001b[0m \u001b[0;36m3\u001b[0m\u001b[0;34m)\u001b[0m\u001b[0;34m\u001b[0m\u001b[0m\n",
      "\u001b[0;31mNameError\u001b[0m: name 'd' is not defined"
     ]
    }
   ],
   "source": [
    "n = 50\n",
    "xyz = np.mgrid[-d:d:1j*n, -d:d:1j*n, h:h+1]\n",
    "fig, ax = plt.subplots(1, 2, subplot_kw=dict(aspect=\"equal\"))\n",
    "pot = shaped(s.potential)(xyz)\n",
    "v = np.arange(-15, 3)\n",
    "x, y, p = (_.reshape(n, n) for _ in (xyz[0], xyz[1], pot))\n",
    "ax[0].contour(x, y, np.log2(p), v, cmap=plt.cm.hot)\n",
    "\n",
    "(xs1, ps1), (xs0, ps0) = s.saddle(x0+1e-2), s.saddle([0, 0, .8])\n",
    "print(\"main saddle:\", xs0, ps0)\n",
    "xyz = np.mgrid[-d:d:1j*n, 0:1, .7*h:3*h:1j*n]\n",
    "pot = shaped(s.potential)(xyz)\n",
    "x, z, p = (_.reshape(n, n) for _ in (xyz[0], xyz[2], pot))\n",
    "ax[1].contour(x, z, np.log2(p), v, cmap=plt.cm.hot)\n",
    "ax[1].contour(x, z, np.log2(p), np.log2((ps1, ps0)), color=\"black\")"
   ]
  },
  {
   "cell_type": "code",
   "execution_count": null,
   "metadata": {},
   "outputs": [],
   "source": []
  }
 ],
 "metadata": {
  "kernelspec": {
   "display_name": "Python 3",
   "language": "python",
   "name": "python3"
  },
  "language_info": {
   "codemirror_mode": {
    "name": "ipython",
    "version": 3
   },
   "file_extension": ".py",
   "mimetype": "text/x-python",
   "name": "python",
   "nbconvert_exporter": "python",
   "pygments_lexer": "ipython3",
   "version": "3.6.6"
  }
 },
 "nbformat": 4,
 "nbformat_minor": 2
}
