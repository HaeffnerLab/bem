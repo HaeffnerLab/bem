{
 "cells": [
  {
   "cell_type": "code",
   "execution_count": 2,
   "metadata": {},
   "outputs": [
    {
     "name": "stdout",
     "output_type": "stream",
     "text": [
      "/home/wwc/bem_git/bem/examples/SimpleTrap\n",
      "/home/wwc/anaconda3/bin/python\n"
     ]
    }
   ],
   "source": [
    "!pwd\n",
    "!which python"
   ]
  },
  {
   "cell_type": "code",
   "execution_count": 1,
   "metadata": {},
   "outputs": [],
   "source": [
    "import sys\n",
    "import logging, os\n",
    "import numpy as np\n",
    "# To import pyface.py is just for setting \"Qt\" sip API version to 2 before matplotlib sets it to default v1 \n",
    "# that is incompatible with \"pyside\" in package \"mayavi\". wwc\n",
    "import pyface.qt    \n",
    "import matplotlib.pyplot as plt\n",
    "from multiprocessing import Pool    # parallel computation.\n",
    "\n",
    "sys.path.append('../../')   # add path of package \"bem\" to search list. wwc\n",
    "sys.path.append('../../../electrode/')   # add path of package \"electrode\" to search list. wwc"
   ]
  },
  {
   "cell_type": "code",
   "execution_count": 2,
   "metadata": {},
   "outputs": [],
   "source": [
    "prefix = \"SE_cos_m8\"\n",
    "suffix = \"\""
   ]
  },
  {
   "cell_type": "code",
   "execution_count": 3,
   "metadata": {
    "scrolled": true
   },
   "outputs": [
    {
     "name": "stdout",
     "output_type": "stream",
     "text": [
      "<electrode.electrode.GridElectrode object at 0x7fc532c0b410> 0.0\n",
      "<electrode.electrode.GridElectrode object at 0x7fc532c0b410> 0.0\n"
     ]
    }
   ],
   "source": [
    "# electrode is an another package in nist-ionstorage github. wwc\n",
    "from electrode import System, GridElectrode\n",
    "\n",
    "# load the electrostatics results into a electrode.System()\n",
    "s = System()\n",
    "for name in \"DC1 DC2 DC3 DC4 DC5 DC6 RF\".split():    #  DC2 DC3 DC4 DC5 RF\n",
    "    # r = Result.from_vtk(prefix, name)\n",
    "    # r after from_result(): e ~ obj = cls(origin=origin, spacing=spacing, data=pot). \n",
    "    # A vtk file after from_vtk(): obj = cls(origin=origin, spacing=spacing, data=pot). \n",
    "    # So after using from_vtk() we jump over r and get to e.\n",
    "    e = GridElectrode.from_vtk(\"%s%s_\"%(prefix,suffix)+name+\".vtk\",maxderiv=4)    # from_vtk() is classmethod()\n",
    "    e.name = name\n",
    "    s.append(e)    # class System(list), System inherits list method \"append\" wwc\n",
    "# For why instance s is subscriptable (can use []), this relates to \"__getitem__() method\" in System() class.  wwc\n",
    "print(s[\"RF\"],s[\"RF\"].rf)\n",
    "print(e,e.rf)"
   ]
  },
  {
   "cell_type": "code",
   "execution_count": 11,
   "metadata": {
    "scrolled": true
   },
   "outputs": [
    {
     "name": "stdout",
     "output_type": "stream",
     "text": [
      "DC1 1.6 V\n",
      "DC2 3.59 V\n",
      "DC3 3.69 V\n",
      "DC4 -4.49 V\n",
      "DC5 5.0 V\n",
      "DC6 0.0 V\n",
      "RF 2.101491819100513 V\n",
      "\n",
      "x0 [0.    1.126 1.03 ]\n",
      "minimum offset: [-0.1    0.326  0.23 ]\n",
      "\n",
      "parameters:\n",
      " f=87 MHz, m=24.3 amu, q=1 qe, l=40 µm, scale=0.0456 V'/V_SI\n",
      "coordinates:\n",
      " analyze point: [0.    1.126 1.03 ]\n",
      "               ([ 0.   45.04 41.2 ] µm)\n",
      " minimum is at offset: [0. 0. 0.]\n",
      "                      ([0. 0. 0.] µm)\n",
      "potential:\n",
      " dc electrical: 0.866 eV\n",
      " rf pseudo: 0.000192 eV\n",
      " saddle offset: [-0.45277192  0.06503274  0.08376008]\n",
      "               ([-18.1108769    2.60130944   3.35040314] µm)\n",
      " saddle height: -0.00978 eV\n",
      "force:\n",
      " dc electrical: [ 0.04115715 -0.02071413 -0.04166062] eV/l\n",
      "               ([ 1028.92880925  -517.853167   -1041.51544675] eV/m)\n",
      " rf pseudo: [-4.01362013e-05  2.97763319e-03  1.55448259e-02] eV/l\n",
      "           ([ -1.00340503  74.44082974 388.62064838] eV/m)\n",
      "modes:\n",
      " pp+dc normal curvatures: [0.07865228 0.29790427 1.05606931]\n",
      " motion is bounded: False\n",
      " pseudopotential modes:\n",
      "  a: 2.224 MHz, [0.97772982 0.18920235 0.09081226]\n",
      "  b: 4.327 MHz, [-0.20403479  0.75564955  0.62238538]\n",
      "  c: 8.148 MHz, [ 0.04913454 -0.62705361  0.77742496]\n",
      "  euler angles (rzxz): [ 4.48041594 38.97459179  8.30144677] deg\n",
      " mathieu modes:\n",
      "  a: 2.208 MHz, [0.97237251 0.20520687 0.09131753]\n",
      "  b: 4.326 MHz, [-0.21262806  0.77510695  0.56297824]\n",
      "  c: 8.25 MHz, [ 0.04338812 -0.56037349  0.78819602]\n",
      "  euler angles (rzxz): [ 4.42741561 35.88938301  9.21338256] deg\n",
      " heating for 1 nV²/Hz white uncorrelated on each electrode:\n",
      "  field-noise psd: [7.34449748e-13 1.50079124e-11 2.23071014e-11] V²/(m² Hz)\n",
      "  a: ndot=98.8 /s, S_E*f=2.007e-06 (V² Hz)/(m² Hz)\n",
      "  b: ndot=55.78 /s, S_E*f=4.35e-06 (V² Hz)/(m² Hz)\n",
      "  c: ndot=984.2 /s, S_E*f=0.0002791 (V² Hz)/(m² Hz)\n"
     ]
    }
   ],
   "source": [
    "import scipy.constants as ct\n",
    "l = 40e-6 # length scale\n",
    "u = 46.12 # peak rf voltage\n",
    "o = 87e6*2*np.pi # rf frequency\n",
    "m = 24.3*ct.atomic_mass # ion mass\n",
    "q = 1*ct.elementary_charge # ion charge\n",
    "\n",
    "V5 = 5.0\n",
    "DCvol = {\"DC1\":0.320*V5,\"DC2\":0.718*V5,\"DC3\":0.738*V5,\"DC4\":-0.898*V5,\"DC5\":V5,\"DC6\":0.0*V5}\n",
    "for edc in DCvol:\n",
    "    s[edc].dc = DCvol[edc]\n",
    "    print(edc,s[edc].dc,\"V\")\n",
    "# Pay attention to s.rf_scale(m,q,l,o) pesudo potential coefficient! See blakestad2010 Eq.(5.2).  wwc\n",
    "s[\"RF\"].rf = s.rf_scale(m,q,l,o)*u   # s[\"RF\"] == e, create attribute e.rf  wwc\n",
    "# s[\"RF\"].rf = u*np.sqrt(q/m)/(2*l*o)\n",
    "print(\"RF\",s[\"RF\"].rf,\"V\")\n",
    "\n",
    "xi = (0.1, 0.8, 0.8)\n",
    "#x0 = s.minimum(xi)\n",
    "x0 = np.array([0.0,1.126,1.03])\n",
    "print(\"\\nx0\",x0)\n",
    "print(\"minimum offset: %s\\n\"%(x0-xi))\n",
    "# analyze_static(x, axis=(0, 1, 2), m=ct.atomic_mass, q=ct.elementary_charge, l=100e-6, o=2*np.pi*1e6, ions=1, log=None):\n",
    "for line in s.analyze_static(x0, m=m, q=q, l=l, o=o):      # u=50., # u is V rf peak voltage, but it causes error.\n",
    "    print(line)"
   ]
  },
  {
   "cell_type": "code",
   "execution_count": 6,
   "metadata": {},
   "outputs": [],
   "source": [
    "# # To understand the data structure of GridElectrode.data.  wwc\n",
    "# print(e.origin, e.spacing)\n",
    "# print(len(e.data),type(e.data))  # [pot_array,field_array,2nd_pot_array,3rd_pot_array], 0~3,4th derivative order.\n",
    "# print(type(e.data[0]),type(e.data[1]))  # All list elements are ndarray.\n",
    "# print(e.data[0].shape,e.data[1].shape)    # (nx,ny,nz,components)\n",
    "# print(e.data[0])    # potential\n",
    "# # [[[[p(x0,y0,z0)],\n",
    "# #    [p(x0,y0,z1)],\n",
    "# #    [p(x0,y0,z2)]],\n",
    "# #    \n",
    "# #   [[p(x0,y1,z0)],\n",
    "# #    [p(x0,y1,z1)],\n",
    "# #    [p(x0,y1,z2)]],     \n",
    "# #\n",
    "# #   ]]"
   ]
  },
  {
   "cell_type": "code",
   "execution_count": 7,
   "metadata": {},
   "outputs": [],
   "source": [
    "# This is from electrode turtorial.ipynb  wwc\n",
    "# import scipy.constants as ct\n",
    "# l = 30e-6 # µm length scale\n",
    "# u = 20. # V rf peak voltage\n",
    "# m = 25*ct.atomic_mass # ion mass\n",
    "# q = 1*ct.elementary_charge # ion charge\n",
    "# o = 2*np.pi*100e6 # rf frequency in rad/s\n",
    "# s[\"RF\"].rf = u*np.sqrt(q/m)/(2*l*o)\n",
    "# print(s[\"RF\"])\n",
    "\n",
    "# x0 = s.minimum((0, 0, 1.), axis=(1, 2))\n",
    "\n",
    "# for line in s.analyze_static(x0, axis=(1,0), m=m, q=q, l=l, o=o):\n",
    "#     print(line)"
   ]
  },
  {
   "cell_type": "code",
   "execution_count": 8,
   "metadata": {},
   "outputs": [],
   "source": [
    "# Test np.linalg.eigh.\n",
    "# mat = np.array([[3,0,1],[0,2,0],[1,0,3]])\n",
    "# print(mat)\n",
    "# np.linalg.eigh(mat)"
   ]
  },
  {
   "cell_type": "code",
   "execution_count": 6,
   "metadata": {},
   "outputs": [
    {
     "ename": "ValueError",
     "evalue": "failed, 0, Warning: Desired error not necessarily achieved due to precision loss.,      fun: 0.8468544327503894\n     jac: array([-0.00080828, -0.00363414, -0.00231351])\n message: 'Warning: Desired error not necessarily achieved due to precision loss.'\n    nfev: 32\n    nhev: 8\n     nit: 7\n    njev: 27\n  status: 2\n success: False\n       x: array([-0.36343205,  1.01224497,  0.86479654])",
     "output_type": "error",
     "traceback": [
      "\u001b[0;31m---------------------------------------------------------------------------\u001b[0m",
      "\u001b[0;31mValueError\u001b[0m                                Traceback (most recent call last)",
      "\u001b[0;32m<ipython-input-6-0d692dbba5a4>\u001b[0m in \u001b[0;36m<module>\u001b[0;34m()\u001b[0m\n\u001b[1;32m      1\u001b[0m \u001b[0;31m# x is single point coord. x will be round to neatest points so x never go beyond boundary.\u001b[0m\u001b[0;34m\u001b[0m\u001b[0;34m\u001b[0m\u001b[0m\n\u001b[1;32m      2\u001b[0m \u001b[0mxi\u001b[0m \u001b[0;34m=\u001b[0m \u001b[0;34m(\u001b[0m\u001b[0;36m0.\u001b[0m\u001b[0;34m,\u001b[0m \u001b[0;36m1.2\u001b[0m\u001b[0;34m,\u001b[0m \u001b[0;36m1.2\u001b[0m\u001b[0;34m)\u001b[0m\u001b[0;34m\u001b[0m\u001b[0m\n\u001b[0;32m----> 3\u001b[0;31m \u001b[0mx0\u001b[0m \u001b[0;34m=\u001b[0m \u001b[0ms\u001b[0m\u001b[0;34m.\u001b[0m\u001b[0mminimum\u001b[0m\u001b[0;34m(\u001b[0m\u001b[0mxi\u001b[0m\u001b[0;34m)\u001b[0m\u001b[0;34m\u001b[0m\u001b[0m\n\u001b[0m\u001b[1;32m      4\u001b[0m \u001b[0mprint\u001b[0m\u001b[0;34m(\u001b[0m\u001b[0;34m\"\\nx0\"\u001b[0m\u001b[0;34m,\u001b[0m\u001b[0mx0\u001b[0m\u001b[0;34m)\u001b[0m\u001b[0;34m\u001b[0m\u001b[0m\n\u001b[1;32m      5\u001b[0m \u001b[0mprint\u001b[0m\u001b[0;34m(\u001b[0m\u001b[0;34m\"minimum offset: %s\\n\"\u001b[0m\u001b[0;34m%\u001b[0m\u001b[0;34m(\u001b[0m\u001b[0mx0\u001b[0m\u001b[0;34m-\u001b[0m\u001b[0mxi\u001b[0m\u001b[0;34m)\u001b[0m\u001b[0;34m)\u001b[0m\u001b[0;34m\u001b[0m\u001b[0m\n",
      "\u001b[0;32m~/bem_git/electrode/electrode/system.py\u001b[0m in \u001b[0;36mminimum\u001b[0;34m(self, x0, axis, coord, method, **kwargs)\u001b[0m\n\u001b[1;32m    445\u001b[0m         \u001b[0;32mif\u001b[0m \u001b[0;32mnot\u001b[0m \u001b[0mres\u001b[0m\u001b[0;34m.\u001b[0m\u001b[0msuccess\u001b[0m\u001b[0;34m:\u001b[0m\u001b[0;34m\u001b[0m\u001b[0m\n\u001b[1;32m    446\u001b[0m             raise ValueError(\"failed, %i, %s, %s\" % (res.success,\n\u001b[0;32m--> 447\u001b[0;31m                 res.message, res))\n\u001b[0m\u001b[1;32m    448\u001b[0m         \u001b[0mx\u001b[0m\u001b[0;34m[\u001b[0m\u001b[0maxis\u001b[0m\u001b[0;34m]\u001b[0m \u001b[0;34m=\u001b[0m \u001b[0mres\u001b[0m\u001b[0;34m.\u001b[0m\u001b[0mx\u001b[0m\u001b[0;34m\u001b[0m\u001b[0m\n\u001b[1;32m    449\u001b[0m         \u001b[0;32mreturn\u001b[0m \u001b[0mx\u001b[0m\u001b[0;34m\u001b[0m\u001b[0m\n",
      "\u001b[0;31mValueError\u001b[0m: failed, 0, Warning: Desired error not necessarily achieved due to precision loss.,      fun: 0.8468544327503894\n     jac: array([-0.00080828, -0.00363414, -0.00231351])\n message: 'Warning: Desired error not necessarily achieved due to precision loss.'\n    nfev: 32\n    nhev: 8\n     nit: 7\n    njev: 27\n  status: 2\n success: False\n       x: array([-0.36343205,  1.01224497,  0.86479654])"
     ]
    }
   ],
   "source": [
    "# x is single point coord. x will be round to neatest points so x never go beyond boundary.\n",
    "xi = (0., 1.2, 1.2)\n",
    "x0 = s.minimum(xi)\n",
    "print(\"\\nx0\",x0)\n",
    "print(\"minimum offset: %s\\n\"%(x0-xi))\n",
    "#x0 = np.array([0.0,1.0,1.0])\n",
    "print(\"potential at x0:\",s.potential(x=x0,derivative=0)[0])\n",
    "print(\"min DC1 potential:\",np.amin(s[\"DC1\"].data[0]))\n",
    "print()\n",
    "\n",
    "print(s.potential(x0, 2)[0])\n",
    "eigen = np.linalg.eigh(s.potential(x0, 2)[0])\n",
    "print(eigen)\n",
    "s.modes(x0)"
   ]
  },
  {
   "cell_type": "code",
   "execution_count": 8,
   "metadata": {},
   "outputs": [
    {
     "name": "stdout",
     "output_type": "stream",
     "text": [
      "10 -0.025000000000000022\n",
      "[slice(-0.525, 0.475, 21j), slice(0.275, 1.975, 35j), slice(0.475, 2.475, 41j)]\n",
      "(3, 35, 41)\n",
      "(35, 41)\n",
      "\n",
      "minimum: [0.    1.126 1.03 ]\n",
      "minimum offset: [-0.1    0.326  0.23 ]\n",
      "\n",
      "saddle: [2.28259043 1.16588177 1.01456502]\n",
      "saddle offset: [ 2.28259043  0.03988177 -0.01543498]\n",
      "saddle height: [0.11260722]\n"
     ]
    },
    {
     "data": {
      "text/plain": [
       "[<matplotlib.lines.Line2D at 0x7fc531bfc208>]"
      ]
     },
     "execution_count": 8,
     "metadata": {},
     "output_type": "execute_result"
    },
    {
     "data": {
      "image/png": "[encoded data removed]",
      "text/plain": [
       "<Figure size 432x288 with 1 Axes>"
      ]
     },
     "metadata": {},
     "output_type": "display_data"
    }
   ],
   "source": [
    "start = np.array([-0.5,0.3,0.5])\n",
    "end = np.array([0.5,2.0,2.5])\n",
    "nextra = 1\n",
    "#print(1,start,end)\n",
    "ngd_s = np.floor((start-s[\"RF\"].origin)/s[\"RF\"].spacing).astype(int)\n",
    "ngd_e = np.floor((end-s[\"RF\"].origin)/s[\"RF\"].spacing).astype(int)\n",
    "#print(2,ngd_s,ngd_e)\n",
    "start = np.round(ngd_s*s[\"RF\"].spacing+s[\"RF\"].origin,5)    # round 5 digits.  wwc\n",
    "end = np.round(ngd_e*s[\"RF\"].spacing+s[\"RF\"].origin,5)\n",
    "#print(3,start,end)\n",
    "ngd = np.floor((end-start)/s[\"RF\"].spacing).astype(int)\n",
    "\n",
    "xpl = x0[0]\n",
    "xyz = [np.linspace(st,en,(ng+1)*nextra)     # xyz is the potential coords\n",
    "       for st,en,ng in zip(start,end,ngd)]\n",
    "xpln = np.rint((xpl-start[0])/s[\"RF\"].spacing[0]).astype(int)\n",
    "print(xpln,xyz[0][xpln])    # xyz[0][xpln] is the nearest grid point near xpl.\n",
    "slc = [slice(st,en,1j*(ng+1)*nextra) \n",
    "       for st,en,ng in zip(start,end,ngd)]    # mgrid slices\n",
    "print(slc)\n",
    "xyzg = np.mgrid[slc][:,xpln]    # yz plane\n",
    "#yzg = np.mgrid[[slc[1],slc[2]]]\n",
    "print(xyzg.shape)\n",
    "\n",
    "pot = []\n",
    "for y in xyz[1]:\n",
    "    # s.potential(x=(xpl,y,z),derivative=0) returns a shape (1,) array. array[pot(xpl,y,z)]. So add a [0].  wwc\n",
    "    potz = np.array([s.potential(x=(xpl,y,z),derivative=0)[0] for z in xyz[2] ])          \n",
    "    pot.append(potz)\n",
    "pot = np.array(pot)\n",
    "print(pot.shape)\n",
    "\n",
    "fig, ax = plt.subplots()\n",
    "ax.set_aspect(\"equal\")\n",
    "ax.contour(xyzg[1], xyzg[2], pot, levels=np.linspace(0, 1.5, 50), cmap=plt.cm.Blues)\n",
    "\n",
    "#xi = (0., 1.1, 1.1)\n",
    "#x01 = s.minimum(xi)\n",
    "#x0 = s.minimum(xi)\n",
    "x0 = np.array([0.0,1.126,1.03])\n",
    "print(\"\\nminimum:\",x0)\n",
    "print(\"minimum offset: %s\"%(x0-xi))\n",
    "xs,xsp = s.saddle(x0+1e-1*x0[2])\n",
    "p_dc = s.electrical_potential(x0,\"dc\",0)[0]\n",
    "p_rf = s.pseudo_potential(x0,0)[0]\n",
    "print(\"\\nsaddle:\",xs)\n",
    "print(\"saddle offset: %s\"%(xs-x0))\n",
    "print(\"saddle height:\",xsp-(p_dc+p_rf))\n",
    "ax.plot(x0[1],x0[2],'r+',markersize=10)\n",
    "ax.plot(xs[1],xs[2],'k+',markersize=10)"
   ]
  },
  {
   "cell_type": "code",
   "execution_count": 10,
   "metadata": {},
   "outputs": [],
   "source": [
    "#ar = [np.arange(st,en,spn) for st,en,spn in zip(start,end,s[\"RF\"].spacing/nextra)]\n",
    "#print(ar)\n",
    "# ngd = np.floor((end-start)/s[\"RF\"].spacing).astype(int)*nextra\n",
    "\n",
    "# pot = np.array([s.potential(x=(xpl,ar[1],ar[2]),derivative=0)])"
   ]
  },
  {
   "cell_type": "code",
   "execution_count": 11,
   "metadata": {},
   "outputs": [
    {
     "data": {
      "text/plain": [
       "(62, 62, 62)"
      ]
     },
     "execution_count": 11,
     "metadata": {},
     "output_type": "execute_result"
    }
   ],
   "source": [
    "s[\"DC1\"].data[0].shape\n",
    "s1 = s[\"DC1\"].data[0].reshape((62,62,62))\n",
    "s1.shape"
   ]
  },
  {
   "cell_type": "code",
   "execution_count": 12,
   "metadata": {},
   "outputs": [
    {
     "name": "stdout",
     "output_type": "stream",
     "text": [
      "[-1.525 -0.525 -0.525]\n",
      "[0.05 0.05 0.05]\n",
      "1 [-0.5  0.5  0.5] [0.5 2.  1.5]\n",
      "2 [20 20 20] [40 50 40]\n",
      "3 [-0.525  0.475  0.475] [0.475 1.975 1.475]\n",
      "[slice(-0.525, 0.475, 21j), slice(0.475, 1.975, 31j), slice(0.475, 1.475, 21j)]\n"
     ]
    }
   ],
   "source": [
    "print(s[\"RF\"].origin)\n",
    "print(s[\"RF\"].spacing)\n",
    "\n",
    "start = np.array([-0.5,0.5,0.5])\n",
    "end = np.array([0.5,2.0,1.5])\n",
    "print(1,start,end)\n",
    "ngd_s = np.floor((start-s[\"RF\"].origin)/s[\"RF\"].spacing).astype(int)\n",
    "ngd_e = np.floor((end-s[\"RF\"].origin)/s[\"RF\"].spacing).astype(int)\n",
    "print(2,ngd_s,ngd_e)\n",
    "start = np.round(ngd_s*s[\"RF\"].spacing+s[\"RF\"].origin,8)    # round 8 digits.  wwc\n",
    "end = np.round(ngd_e*s[\"RF\"].spacing+s[\"RF\"].origin,8)\n",
    "print(3,start,end)\n",
    "\n",
    "ngd = np.floor((end-start)/s[\"RF\"].spacing).astype(int)\n",
    "slc = [slice(st,en,1j*(ng+1)) \n",
    "       for st,en,ng in zip(start,end,ngd)]\n",
    "print(slc)\n",
    "#np.mgrid[slc]"
   ]
  },
  {
   "cell_type": "code",
   "execution_count": 13,
   "metadata": {},
   "outputs": [
    {
     "ename": "NameError",
     "evalue": "name 'd' is not defined",
     "output_type": "error",
     "traceback": [
      "\u001b[0;31m---------------------------------------------------------------------------\u001b[0m",
      "\u001b[0;31mNameError\u001b[0m                                 Traceback (most recent call last)",
      "\u001b[0;32m<ipython-input-13-50cfcdf721f9>\u001b[0m in \u001b[0;36m<module>\u001b[0;34m()\u001b[0m\n\u001b[1;32m      1\u001b[0m \u001b[0mn\u001b[0m \u001b[0;34m=\u001b[0m \u001b[0;36m50\u001b[0m\u001b[0;34m\u001b[0m\u001b[0m\n\u001b[0;32m----> 2\u001b[0;31m \u001b[0mxyz\u001b[0m \u001b[0;34m=\u001b[0m \u001b[0mnp\u001b[0m\u001b[0;34m.\u001b[0m\u001b[0mmgrid\u001b[0m\u001b[0;34m[\u001b[0m\u001b[0;34m-\u001b[0m\u001b[0md\u001b[0m\u001b[0;34m:\u001b[0m\u001b[0md\u001b[0m\u001b[0;34m:\u001b[0m\u001b[0;36m1j\u001b[0m\u001b[0;34m*\u001b[0m\u001b[0mn\u001b[0m\u001b[0;34m,\u001b[0m \u001b[0;34m-\u001b[0m\u001b[0md\u001b[0m\u001b[0;34m:\u001b[0m\u001b[0md\u001b[0m\u001b[0;34m:\u001b[0m\u001b[0;36m1j\u001b[0m\u001b[0;34m*\u001b[0m\u001b[0mn\u001b[0m\u001b[0;34m,\u001b[0m \u001b[0mh\u001b[0m\u001b[0;34m:\u001b[0m\u001b[0mh\u001b[0m\u001b[0;34m+\u001b[0m\u001b[0;36m1\u001b[0m\u001b[0;34m]\u001b[0m\u001b[0;34m\u001b[0m\u001b[0m\n\u001b[0m\u001b[1;32m      3\u001b[0m \u001b[0mfig\u001b[0m\u001b[0;34m,\u001b[0m \u001b[0max\u001b[0m \u001b[0;34m=\u001b[0m \u001b[0mplt\u001b[0m\u001b[0;34m.\u001b[0m\u001b[0msubplots\u001b[0m\u001b[0;34m(\u001b[0m\u001b[0;36m1\u001b[0m\u001b[0;34m,\u001b[0m \u001b[0;36m2\u001b[0m\u001b[0;34m,\u001b[0m \u001b[0msubplot_kw\u001b[0m\u001b[0;34m=\u001b[0m\u001b[0mdict\u001b[0m\u001b[0;34m(\u001b[0m\u001b[0maspect\u001b[0m\u001b[0;34m=\u001b[0m\u001b[0;34m\"equal\"\u001b[0m\u001b[0;34m)\u001b[0m\u001b[0;34m)\u001b[0m\u001b[0;34m\u001b[0m\u001b[0m\n\u001b[1;32m      4\u001b[0m \u001b[0mpot\u001b[0m \u001b[0;34m=\u001b[0m \u001b[0mshaped\u001b[0m\u001b[0;34m(\u001b[0m\u001b[0ms\u001b[0m\u001b[0;34m.\u001b[0m\u001b[0mpotential\u001b[0m\u001b[0;34m)\u001b[0m\u001b[0;34m(\u001b[0m\u001b[0mxyz\u001b[0m\u001b[0;34m)\u001b[0m\u001b[0;34m\u001b[0m\u001b[0m\n\u001b[1;32m      5\u001b[0m \u001b[0mv\u001b[0m \u001b[0;34m=\u001b[0m \u001b[0mnp\u001b[0m\u001b[0;34m.\u001b[0m\u001b[0marange\u001b[0m\u001b[0;34m(\u001b[0m\u001b[0;34m-\u001b[0m\u001b[0;36m15\u001b[0m\u001b[0;34m,\u001b[0m \u001b[0;36m3\u001b[0m\u001b[0;34m)\u001b[0m\u001b[0;34m\u001b[0m\u001b[0m\n",
      "\u001b[0;31mNameError\u001b[0m: name 'd' is not defined"
     ]
    }
   ],
   "source": [
    "n = 50\n",
    "xyz = np.mgrid[-d:d:1j*n, -d:d:1j*n, h:h+1]\n",
    "fig, ax = plt.subplots(1, 2, subplot_kw=dict(aspect=\"equal\"))\n",
    "pot = shaped(s.potential)(xyz)\n",
    "v = np.arange(-15, 3)\n",
    "x, y, p = (_.reshape(n, n) for _ in (xyz[0], xyz[1], pot))\n",
    "ax[0].contour(x, y, np.log2(p), v, cmap=plt.cm.hot)\n",
    "\n",
    "(xs1, ps1), (xs0, ps0) = s.saddle(x0+1e-2), s.saddle([0, 0, .8])\n",
    "print(\"main saddle:\", xs0, ps0)\n",
    "xyz = np.mgrid[-d:d:1j*n, 0:1, .7*h:3*h:1j*n]\n",
    "pot = shaped(s.potential)(xyz)\n",
    "x, z, p = (_.reshape(n, n) for _ in (xyz[0], xyz[2], pot))\n",
    "ax[1].contour(x, z, np.log2(p), v, cmap=plt.cm.hot)\n",
    "ax[1].contour(x, z, np.log2(p), np.log2((ps1, ps0)), color=\"black\")"
   ]
  },
  {
   "cell_type": "code",
   "execution_count": null,
   "metadata": {},
   "outputs": [],
   "source": []
  }
 ],
 "metadata": {
  "kernelspec": {
   "display_name": "Python 3",
   "language": "python",
   "name": "python3"
  },
  "language_info": {
   "codemirror_mode": {
    "name": "ipython",
    "version": 3
   },
   "file_extension": ".py",
   "mimetype": "text/x-python",
   "name": "python",
   "nbconvert_exporter": "python",
   "pygments_lexer": "ipython3",
   "version": "3.6.6"
  }
 },
 "nbformat": 4,
 "nbformat_minor": 2
}
