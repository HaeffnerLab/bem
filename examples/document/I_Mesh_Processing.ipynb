{
 "cells": [
  {
   "cell_type": "markdown",
   "metadata": {},
   "source": [
    "# `Document & Tutorial`\n",
    "This BEM package is used for for numerical simulating the electric field of ion traps in python style. Some external packages are wrapped in this package:\n",
    "\n",
    "* fast triangulation (http://www.cs.cmu.edu/~quake/triangle.research.html)\n",
    "* fastlap boundary element method (Nabors K S. Efficient three-dimensional capacitance calculation[D]. Massachusetts Institute of Technology, 1993.)\n",
    "\n",
    "This document, also as a tutorial, explains how to numerical computing electric field and computing its multipole expansion coefficient starting from scratch with a fusion 360 trap model(take `./f3d/htrap_overhang_9x5mm.f3d` for example). Our document consists of three .ipynb files: \n",
    "\n",
    "* `I_Mesh_Processing.ipynb`\n",
    "* `II_Field_Simulation.ipynb`\n",
    "* `III_Multipole_Expansion.ipynb`\n",
    "\n",
    "We split document into three files for some reasons:1. the most time consuming part `II_Field_Simulation.ipynb` could be taken out alone and run on HPC. 2.the intermediate result between files can be checked. \n",
    "\n",
    "Going through three files in order and running their python code will help you understand our workflow. Generally our workflow divides into three steps, corresponding to the above three .ipynb files. Firstly we identify different electrodes of the trap model by different colors. Also, we refines the trap model meshes to prepare for the second step. The result is stored in `mesh_result.pkl`. Secondly, we simulate the electric potential with fastlap boundary element method(FMM), the accuracy of this step depends on the mesh size in the first step. The result is stored in `field_result.pkl`. Thirdly, we analyze the electric field. Our focus is the multipole coefficient of the field under specific voltage distribution.\n",
    "\n",
    "Before running codes, you must set up the environment according to instructions in `README`"
   ]
  },
  {
   "cell_type": "markdown",
   "metadata": {},
   "source": [
    "# `I. Mesh Processing` \n",
    "\n",
    "\n",
    "First of all, you have a trap model in fusion 360 project, for example, ./f3d/htrap_overhang_9x5mm.f3d, \n",
    "\n",
    "<!--![avatar](./figs/origin.png) -->\n",
    "\n",
    "This document helps you generate a pickle file(.pkl), which stores electric potential(or field) districution of one electrode at voltalge 1V and other elctrodes at voltalge 0V. With this pickle file(.pkl), you can analyze various properties of field distribution for arbitrary electrode voltage configuration, of which we concern about multipole expansion the most. The analysis of pickle file(.pkl) in Document2\n",
    "\n",
    "## 1. define your electrodes\n",
    "\n",
    "Firstly you need to color your input model file(.stl file) and edit color_map to define your electrodes.\n",
    "\n",
    "A trap always divide into different part(different electrodes). Here we use color to identify different electrodes(STL file stores color for each mesh). This step assign a name for each color(i.e. each electrode).\n",
    "\n",
    "### (1) color your electrodes (in fusion 360)\n",
    "\n",
    "In fusion 360, assign different color(we recommend to use ../../bemCol_lib/bemCol.adsklib) for different electrodes. Same color for two electrodes means they are shorted.\n",
    "\n",
    "<!--!![avatar](./figs/colored.png) -->\n",
    "\n",
    "( We define a set of standard color lib ../../../bemCol_lib/bemCol.adsklib for two reasons: 1. when exporting to .stl file, fusion 360 will compress 0-256 color(RGBA32) into 0-32 color(RGBA16), which means that some similar colors in fusion 360 will become same color after export to .stl file. Our standard color lib avoid this problem. 2.If you use .stl file exported from fusion 360 DIRECTLY, naming the electrodes would be very convinient. If you use other apps such as Inventor or Meshlab to generate .stl file, you can ignore this second reason because color encoding are quite different in different apps)\n",
    "\n",
    "Then export to an stl file in fusion360 file>export tab and put the file in ./trapstl . (here we cut our trap into a smaller one before exporting, because distant electrode parts have little influence)\n",
    "\n",
    "### (2) assign a name for each color\n",
    "\n",
    "### (3) "
   ]
  }
 ],
 "metadata": {
  "language_info": {
   "name": "python"
  },
  "orig_nbformat": 4
 },
 "nbformat": 4,
 "nbformat_minor": 2
}
