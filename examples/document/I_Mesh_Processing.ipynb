{
 "cells": [
  {
   "cell_type": "markdown",
   "metadata": {},
   "source": [
    "# `Document & Tutorial`\n",
    "This BEM package is used for for numerical simulating the electric field of ion traps in python style. Some external packages are wrapped in this package:\n",
    "\n",
    "* fast triangulation (http://www.cs.cmu.edu/~quake/triangle.research.html)\n",
    "* fastlap boundary element method (Nabors K S. Efficient three-dimensional capacitance calculation[D]. Massachusetts Institute of Technology, 1993.)\n",
    "\n",
    "This document, also as a tutorial, explains how to numerical computing electric field and computing its multipole expansion coefficient starting from scratch with a fusion 360 trap model(take `./f3d/htrap_overhang_9x5mm.f3d` for example). Our document consists of three .ipynb files: \n",
    "\n",
    "* `I_Mesh_Processing.ipynb`\n",
    "* `II_Field_Simulation.ipynb`\n",
    "* `III_Multipole_Expansion.ipynb`\n",
    "\n",
    "We split document into three files for some reasons:1. the most time consuming part `II_Field_Simulation.ipynb` could be taken out alone and run on HPC. 2.the intermediate result between files can be checked. \n",
    "\n",
    "Going through three files in order and running their python code will help you understand our workflow. Generally our workflow divides into three steps, corresponding to the above three .ipynb files. Firstly we identify different electrodes of the trap model by different colors. Also, we refines the trap model meshes to prepare for the second step. The result is stored in `mesh_result.pkl`. Secondly, we simulate the electric potential with fastlap boundary element method(FMM), the accuracy of this step depends on the mesh size in the first step. The result is stored in `field_result.pkl`. Thirdly, we analyze the electric field. Our focus is the multipole coefficient of the field under specific voltage distribution.\n",
    "\n",
    "Before running codes, you must set up the environment according to instructions in `README`"
   ]
  },
  {
   "cell_type": "markdown",
   "metadata": {},
   "source": [
    "# `I. Mesh Processing` \n",
    "This .pynb file reads a colored model file `./inter_results/htrap.stl`, and assign names for each color(thus for each electrodes). The result is stored in `./inter_results/mesh_result.pkl`.\n",
    "\n",
    "In this file we name different electrodes and refine the meshes. The size of mesh deternmines the accuracy in next step. You should set the mesh finer and finer until the result converges. Also, you can set the mesh finer and test the convergence.\n",
    "\n",
    "## (1) color your electrodes (in fusion 360) and export stl\n",
    "First of all, you have a trap model in fusion 360 project, for example, `./f3d/htrap_overhang_9x5mm.f3d`.A trap always consists of different electrodes. Here we use different color to identify different electrodes(STL file stores color for each mesh). In fusion 360, you can assign different appearance for different parts, of which we only cares about the color(because stl file only stores color), not texture. We recommend to use ../../bemCol_lib/bemCol.adsklib for different electrodes. Same color for two electrodes means they are shorted. Then we get `./f3d/htrap_overhang_9x5mm_my_colored.f3d`\n",
    "\n",
    "Then export to an stl file in fusion360 file>export tab and move the file in `./inter_results`. We export our stl in mm, so we set"
   ]
  },
  {
   "cell_type": "code",
   "execution_count": 1,
   "metadata": {},
   "outputs": [],
   "source": [
    "stl_unit = 1e-3"
   ]
  },
  {
   "cell_type": "markdown",
   "metadata": {},
   "source": [
    "Furthurmore, it's our convention to use unit mm in our reaps. e.g. [Electric field] = V/mm , [harmonic confining potential] = V/mm^2.so we set "
   ]
  },
  {
   "cell_type": "code",
   "execution_count": 2,
   "metadata": {},
   "outputs": [],
   "source": [
    "# this is the unit for our Mesh structure\n",
    "# in the following code, this is the default unit for python variables\n",
    "mesh_unit = 1e-3    "
   ]
  },
  {
   "cell_type": "markdown",
   "metadata": {},
   "source": [
    "Some notes:\n",
    "* here we cut our trap into a smaller one, i.e. `./f3d/htrap_overhang_9x5mm_my_colored_cut.f3d`, before exporting, because distant electrode parts have little influence\n",
    "* Why use standard color? We define a set of standard color lib ../../../bemCol_lib/bemCol.adsklib for two reasons: 1. when exporting to .stl file, fusion 360 will compress 0-256 color(RGBA32) into 0-32 color(RGBA16), which means that some similar colors in fusion 360 will become same color after export to .stl file. Our standard color lib avoid this problem. 2.If you use .stl file exported from fusion 360 DIRECTLY, naming the electrodes would be very convinient. If you use other apps such as Inventor or Meshlab to generate .stl file, you can ignore the second reason because color encoding are quite different in different apps\n",
    "\n"
   ]
  },
  {
   "cell_type": "markdown",
   "metadata": {},
   "source": [
    "## (2) assign a name for each color"
   ]
  },
  {
   "cell_type": "code",
   "execution_count": 3,
   "metadata": {},
   "outputs": [],
   "source": [
    "import numpy as np\n",
    "# load stl geometry file\n",
    "from bem.formats import stl\n",
    "stl_path = \"inter_results/\"+\"htrap\"+\".stl\"  \n",
    "s_nta = stl.read_stl(open(stl_path, \"rb\"))"
   ]
  },
  {
   "cell_type": "markdown",
   "metadata": {},
   "source": [
    "First of all, we print all the colors need to be named:"
   ]
  },
  {
   "cell_type": "code",
   "execution_count": 4,
   "metadata": {},
   "outputs": [
    {
     "name": "stdout",
     "output_type": "stream",
     "text": [
      "test_lib {'bem1': (19, 1, 13), 'bem2': (15, 19, 1), 'bem3': (7, 15, 27), 'bem4': (15, 27, 9), 'bem5': (21, 25, 5), 'bem6': (1, 17, 15), 'bem7': (11, 3, 7), 'bem8': (23, 11, 1), 'bem9': (13, 27, 5), 'bem10': (19, 11, 13), 'bem11': (13, 9, 27), 'bem12': (21, 9, 15), 'bem13': (5, 21, 9), 'bem14': (21, 11, 5), 'bem15': (15, 25, 27), 'bem16': (7, 15, 19), 'bem17': (13, 1, 19), 'bem18': (1, 7, 5), 'bem19': (7, 29, 9), 'bem20': (17, 11, 25), 'bem21': (29, 7, 11), 'bem22': (21, 17, 15), 'bem23': (13, 15, 3), 'bem24': (21, 19, 11), 'bem25': (27, 17, 5), 'bem26': (27, 7, 13), 'bem27': (7, 1, 1), 'bem28': (15, 9, 27), 'bem29': (19, 21, 3), 'bem30': (17, 29, 27), 'bem31': (3, 5, 13), 'bem32': (19, 11, 29), 'bem33': (19, 5, 3), 'bem34': (25, 25, 3), 'bem35': (15, 5, 25), 'bem36': (7, 11, 13), 'bem37': (13, 15, 7), 'bem38': (21, 9, 5), 'bem39': (19, 17, 5), 'bem40': (27, 3, 9)}\n",
      "following are colors you need to name\n",
      "['bem6']\n",
      "['bem13']\n",
      "['bem19']\n",
      "['bem11']\n",
      "['bem17']\n",
      "['bem15']\n",
      "['bem30']\n",
      "['bem1']\n",
      "['bem12']\n",
      "['bem5']\n",
      "['bem25']\n",
      "['bem18']\n",
      "['bem16']\n",
      "['bem3']\n",
      "['bem7']\n",
      "['bem9']\n",
      "['bem4']\n",
      "['bem2']\n",
      "['bem20']\n",
      "['bem10']\n",
      "['bem14']\n",
      "['bem8']\n",
      "['bem21']\n",
      "['_unkCol0']\n"
     ]
    }
   ],
   "source": [
    "sys.path.append('../../bemCol_lib')\n",
    "from bemCol import bemCol\n",
    "#from ./bemCol_lib.bemCol import rgb2stl, meshlab_bemCol, bemCol_dict, bemCol\n",
    "ele_col = bemCol(np.array(list(set(s_nta[2]))),('fusion360','export_stl'))\n",
    "ele_col.print_colors_to_name()"
   ]
  },
  {
   "cell_type": "code",
   "execution_count": 5,
   "metadata": {},
   "outputs": [
    {
     "ename": "NameError",
     "evalue": "name 'Mesh' is not defined",
     "output_type": "error",
     "traceback": [
      "\u001b[0;31m---------------------------------------------------------------------------\u001b[0m",
      "\u001b[0;31mNameError\u001b[0m                                 Traceback (most recent call last)",
      "\u001b[1;32m/Users/hewenhao/Desktop/haeffner/bem/examples/document/I_Mesh_Processing.ipynb Cell 11'\u001b[0m in \u001b[0;36m<cell line: 2>\u001b[0;34m()\u001b[0m\n\u001b[1;32m      <a href='vscode-notebook-cell:/Users/hewenhao/Desktop/haeffner/bem/examples/document/I_Mesh_Processing.ipynb#ch0000013?line=0'>1</a>\u001b[0m \u001b[39m# capture \u001b[39;00m\n\u001b[0;32m----> <a href='vscode-notebook-cell:/Users/hewenhao/Desktop/haeffner/bem/examples/document/I_Mesh_Processing.ipynb#ch0000013?line=1'>2</a>\u001b[0m mesh \u001b[39m=\u001b[39m Mesh\u001b[39m.\u001b[39mfrom_mesh(stl\u001b[39m.\u001b[39mstl_to_mesh(\u001b[39m*\u001b[39ms_nta, scale\u001b[39m=\u001b[39m mesh_unit\u001b[39m/\u001b[39mstl_unit, rename\u001b[39m=\u001b[39m\u001b[39mNone\u001b[39;00m,print_dropping \u001b[39m=\u001b[39m \u001b[39mFalse\u001b[39;00m))\n",
      "\u001b[0;31mNameError\u001b[0m: name 'Mesh' is not defined"
     ]
    }
   ],
   "source": [
    "# capture \n",
    "mesh = Mesh.from_mesh(stl.stl_to_mesh(*s_nta, scale= mesh_unit/stl_unit, rename=None,print_dropping = False))"
   ]
  },
  {
   "cell_type": "markdown",
   "metadata": {},
   "source": [
    "## (3) remesh"
   ]
  },
  {
   "cell_type": "code",
   "execution_count": null,
   "metadata": {},
   "outputs": [],
   "source": [
    "#!/usr/bin/env python\n",
    "# coding: utf-8\n",
    "#here heref!\n",
    "#more\n",
    "\n",
    "\n",
    "\n",
    "#   bem: triangulation and fmm/bem electrostatics tools\n",
    "#\n",
    "#   Copyright (C) 2011-2012 Robert Jordens <jordens@gmail.com>\n",
    "#\n",
    "#   This program is free software: you can redistribute it and/or modify\n",
    "#   it under the terms of the GNU General Public License as published by\n",
    "#   the Free Software Foundation, either version 3 of the License, or\n",
    "#   (at your option) any later version.\n",
    "#\n",
    "#   This program is distributed in the hope that it will be useful,\n",
    "#   but WITHOUT ANY WARRANTY; without even the implied warranty of\n",
    "#   MERCHANTABILITY or FITNESS FOR A PARTICULAR PURPOSE.  See the\n",
    "#   GNU General Public License for more details.\n",
    "#\n",
    "#   You should have received a copy of the GNU General Public License\n",
    "#   along with this program.  If not, see <http://www.gnu.org/licenses/>.\n",
    "\n",
    "import sys\n",
    "from time import time\n",
    "import numpy as np\n",
    "import resource\n",
    "import matplotlib as mpl\n",
    "import matplotlib.pyplot as plt\n",
    "import multiprocessing \n",
    "multiprocessing.set_start_method(\"fork\")\n",
    "\n",
    "\n",
    "import numpy as np\n",
    "\n",
    "sys.path.append('../../')\n",
    "from bem import Electrodes, Sphere, Mesh, Grid, Configuration, Result\n",
    "from bem.formats import stl\n",
    "import numpy as np\n",
    "import copy\n",
    "from helper_functions import *\n",
    "from bemCol_lib.bemCol import rgb2stl, meshlab_bemCol, bemCol_dict, bemCol\n",
    "\n",
    "\n",
    "\n",
    "\n",
    "# ### Import STL geometry file\n",
    "# base file name for outputs and inputs is the script name\n",
    "\n",
    "stl_file_in = \"htrapf\"\n",
    "# scale to natural units (ion height)\n",
    "# this seems not right to me- I feel like the ion-to-electrode distance is own for a spherical\n",
    "# electrode geometry\n",
    "leng = 1\n",
    "factor = 1\n",
    "# 72/leng\n",
    "scale = 1e-3   # Distance from ion to electrode is 40 um.\n",
    "use_stl = True\n",
    "\n",
    "# we use a finite difference method to test converge:\n",
    "# we set the mesh double finer, if the change of field is small, then we regard it converge\n",
    "test_cvg = False\n",
    "\n",
    "\n",
    "mesh,s_nta = load_file(Mesh,Electrodes,stl_file_in,scale,use_stl)\n",
    "# The formal rename of electrode. Assign each electrode a string name instead of its color coding. Use the numbers you get above.\n",
    "# `stl.stl_to_mesh()` prints normal vectors (different faces) in each electrode.\n",
    "\n",
    "# print color with rename: 'bem1','bem2','uk1','uk2', etc\n",
    "# s_nta[2] returns a set of attributes\n",
    "print('test num color:',np.array(list(set(s_nta[2]))))\n",
    "ele_col = bemCol(np.array(list(set(s_nta[2]))),('fusion360','export_stl'))\n",
    "ele_col.print_colors_to_name()\n",
    "\n",
    "ele_col.set_color_name(color = 'bem1',name = 'DC1')\n",
    "ele_col.set_color_name(color = 'bem2',name = 'DC2')\n",
    "ele_col.set_color_name(color = 'bem3',name = 'DC3')\n",
    "ele_col.set_color_name(color = 'bem4',name = 'DC4')\n",
    "ele_col.set_color_name(color = 'bem5',name = 'DC5')\n",
    "ele_col.set_color_name(color = 'bem6',name = 'DC6')\n",
    "ele_col.set_color_name(color = 'bem7',name = 'DC7')\n",
    "ele_col.set_color_name(color = 'bem8',name = 'DC8')\n",
    "ele_col.set_color_name(color = 'bem9',name = 'DC9')\n",
    "ele_col.set_color_name(color = 'bem10',name = 'DC10')\n",
    "ele_col.set_color_name(color = 'bem11',name = 'DC11')\n",
    "ele_col.set_color_name(color = 'bem12',name = 'DC12')\n",
    "ele_col.set_color_name(color = 'bem13',name = 'DC13')\n",
    "ele_col.set_color_name(color = 'bem14',name = 'DC14')\n",
    "ele_col.set_color_name(color = 'bem15',name = 'DC15')\n",
    "ele_col.set_color_name(color = 'bem16',name = 'DC16')\n",
    "ele_col.set_color_name(color = 'bem17',name = 'DC17')\n",
    "ele_col.set_color_name(color = 'bem18',name = 'DC18')\n",
    "ele_col.set_color_name(color = 'bem19',name = 'DC19')\n",
    "ele_col.set_color_name(color = 'bem20',name = 'DC20')\n",
    "ele_col.set_color_name(color = 'bem21',name = 'DC21')\n",
    "ele_col.set_color_name(color = 'bem30',name = 'DC0')\n",
    "ele_col.set_color_name(color = 'bem25',name = 'RF')\n",
    "\n",
    "ele_col.print_drop_colors()\n",
    "\n",
    "print(len(s_nta), type(s_nta),\"\\n\")\n",
    "# s_nta is a length 3 tuple. (normal, triangle, attribute)\n",
    "# Normal direction of each triangle, three vetice of triangles, coding number of colors.\n",
    "print(\"Triangles:\",len(s_nta[0]),\"\\nColors:\",len(s_nta[2]),\"\\n\")    # This isn't right.\n",
    "\n",
    "# stl_to_mesh() only assigns names and does scaling, doing no triangulation to stl mesh.\n",
    "# \"scale=scale/1e-6\" only scales dimensionless scale/1e-6.    1e-6: if stl uses micron as unit.\n",
    "color_dict = ele_col.result_dict\n",
    "print('test_rename',color_dict)\n",
    "mesh = Mesh.from_mesh(stl.stl_to_mesh(*s_nta, scale=1,\n",
    "    rename=color_dict, quiet=False))\n",
    "\n",
    "\n",
    "\n",
    "# ### Generate triangle mesh with constraints\n",
    "#\n",
    "# The meshes are 2-dimensional triangles on the surface of electrodes. The region enclosed by constraint shape can have finer mesh. Triangulation is done by `triangle` C library.\n",
    "#there are all in units of mm now (Ben S. feb 2022)\n",
    "xl = (3.1)*72*1e-3\n",
    "yl = -0.051*72*1e-3\n",
    "zl = 1.06*72*1e-3\n",
    "rad = 5*72*1e-3\n",
    "size = 100.0\n",
    "inside=2e-4\n",
    "outside=2e-3\n",
    "# set .1 max area within 3\n",
    "# areas_from_constraints specifies sphere with finer mesh inside it.\n",
    "mpl.rcParams['lines.linewidth'] = 0.2 ###########\n",
    "\n",
    "plot_mesh(xl,yl,mesh,scale,'fig1.png')\n",
    "\n",
    "mesh.triangulate(opts=\"q10Q\",new = False)\n",
    "plot_mesh(xl,yl,mesh,scale,'fig2.png')\n",
    " # \"inside\", \"outside\" set different mesh densities.Q\n",
    "# mesh.areas_from_constraints(Sphere(center=np.array([xl,yl,zl]),\n",
    "#            radius=10*factor, inside=0.1*factor**2, outside=1000))\n",
    "# mesh.triangulate(opts=\"\",new = False)\n",
    "print('--------------')\n",
    "mesh.areas_from_constraints(Sphere(center=np.array([xl,yl,zl]),\n",
    "           radius=rad, inside=inside, outside=outside))\n",
    "# # retriangulate quality and quiet with areas\n",
    "mesh.triangulate(opts=\"q20Q\",new = False)\n",
    "plot_mesh(xl,yl,mesh,scale,'fig3.png')\n",
    "if test_cvg:\n",
    "    mesh_fine = copy.deepcopy(mesh)\n",
    "    mesh_fine.areas_from_constraints(Sphere(center=np.array([xl,yl,zl]),radius=rad, inside=inside/2, outside=outside/2))\n",
    "    mesh_fine.triangulate(opts=\"q25Q\",new = False)\n",
    "\n",
    "\n",
    "# save base mesh to vtks\n",
    "#print(\"Output vtk:\",os.path.abspath(\"./\"+stl_file_in+\".vtk\"))    # output path\n",
    "\n",
    "# save base mesh to a pickle file\n",
    "fout = 'htrap_simulation_1_el3.5'\n",
    "with open('./'+fout+'_meshResult'+'.pkl','wb') as f:\n",
    "    pickle.dump(mesh,f)\n"
   ]
  }
 ],
 "metadata": {
  "interpreter": {
   "hash": "ce2438665d3f6aa1699c2d5fb64eb38ecf5e20707733bcd05e72fa4efaeb7ca0"
  },
  "kernelspec": {
   "display_name": "Python 3.9.12 ('ele392')",
   "language": "python",
   "name": "python3"
  },
  "language_info": {
   "codemirror_mode": {
    "name": "ipython",
    "version": 3
   },
   "file_extension": ".py",
   "mimetype": "text/x-python",
   "name": "python",
   "nbconvert_exporter": "python",
   "pygments_lexer": "ipython3",
   "version": "3.9.12"
  },
  "orig_nbformat": 4
 },
 "nbformat": 4,
 "nbformat_minor": 2
}
