{
 "cells": [
  {
   "cell_type": "markdown",
   "id": "1caf93e0",
   "metadata": {},
   "source": [
    "# 2D surface trap solver"
   ]
  },
  {
   "cell_type": "code",
   "execution_count": 1,
   "id": "bc4353e8",
   "metadata": {
    "ExecuteTime": {
     "end_time": "2022-02-01T00:24:45.760257Z",
     "start_time": "2022-02-01T00:24:35.834288Z"
    }
   },
   "outputs": [],
   "source": [
    "import sys\n",
    "import logging, os\n",
    "from time import time\n",
    "import numpy as np\n",
    "   \n",
    "import matplotlib.pyplot as plt\n",
    "from multiprocess import Pool # rather than import multiprocessing to work with jupyter\n",
    "\n",
    "sys.path.append('../../')   # add path of package \"bem\" to search list.\n",
    "sys.path.append('../../../electrode/')   # add path of package \"electrode\" to search list.\n",
    "\n",
    "from bem import Electrodes, Sphere, Mesh, Grid, Configuration, Result\n",
    "from bem.formats import stl\n",
    "\n",
    "import numpy as np"
   ]
  },
  {
   "cell_type": "markdown",
   "id": "07e4809b",
   "metadata": {},
   "source": [
    "## Import stl"
   ]
  },
  {
   "cell_type": "code",
   "execution_count": null,
   "id": "bd5c55c6",
   "metadata": {},
   "outputs": [],
   "source": [
    "prefix = 1\n",
    "# load electrode faces from colored stl\n",
    "# s_nta is intermediate processed stl file.\n",
    "s_nta = stl.read_stl(open(f\"{prefix}.stl\", \"rb\"))\n",
    "print(\"Import stl:\",os.path.abspath(f\"./{prefix}.stl\"),\"\\n\")\n",
    "print(\"Electrode colors (numbers):\\n\")\n",
    "mesh = Mesh.from_mesh(stl.stl_to_mesh(*s_nta, scale=scale/1e-6,rename={1:\"DC1\"})) "
   ]
  },
  {
   "cell_type": "code",
   "execution_count": null,
   "id": "9f3cb971",
   "metadata": {},
   "outputs": [],
   "source": []
  },
  {
   "cell_type": "code",
   "execution_count": null,
   "id": "0befc749",
   "metadata": {},
   "outputs": [],
   "source": []
  }
 ],
 "metadata": {
  "kernelspec": {
   "display_name": "Python 3 (ipykernel)",
   "language": "python",
   "name": "python3"
  },
  "language_info": {
   "codemirror_mode": {
    "name": "ipython",
    "version": 3
   },
   "file_extension": ".py",
   "mimetype": "text/x-python",
   "name": "python",
   "nbconvert_exporter": "python",
   "pygments_lexer": "ipython3",
   "version": "3.8.12"
  },
  "toc": {
   "base_numbering": 1,
   "nav_menu": {},
   "number_sections": false,
   "sideBar": true,
   "skip_h1_title": false,
   "title_cell": "Table of Contents",
   "title_sidebar": "Contents",
   "toc_cell": false,
   "toc_position": {
    "height": "calc(100% - 180px)",
    "left": "10px",
    "top": "150px",
    "width": "282.431px"
   },
   "toc_section_display": true,
   "toc_window_display": true
  }
 },
 "nbformat": 4,
 "nbformat_minor": 5
}
